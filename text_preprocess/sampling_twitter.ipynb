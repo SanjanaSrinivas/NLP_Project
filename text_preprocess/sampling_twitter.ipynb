{
 "cells": [
  {
   "cell_type": "code",
   "execution_count": 27,
   "metadata": {},
   "outputs": [],
   "source": [
    "hashtags = ['#CaliforniaWildfires', '#CAFire', '#PeakFire', '#Rockyfire', '#WoolseyFire', \n",
    "            '#HillFire', '#evacuations', '#Wildfire']"
   ]
  },
  {
   "cell_type": "code",
   "execution_count": 4,
   "metadata": {},
   "outputs": [],
   "source": [
    "import sys, codecs, json\n",
    "from twython import TwythonStreamer, Twython"
   ]
  },
  {
   "cell_type": "code",
   "execution_count": 22,
   "metadata": {},
   "outputs": [],
   "source": [
    "from datetime import datetime\n",
    "from time import time"
   ]
  },
  {
   "cell_type": "code",
   "execution_count": 5,
   "metadata": {},
   "outputs": [],
   "source": [
    "# Load in OAuth Tokens\n",
    "app_key = \"i4LwIEG2FWWzuYbeEPERLkEDz\"\n",
    "app_sec = \"MNdWCY8ZeNUI7aUf5qQIsH30T6CSRtarCz72fHLBCO5X2TRrOb\"\n",
    "user_key = \"782777088969285633-szrrXE5PmCNgdXq27J0h6aiRVkvPfUc\"\n",
    "user_sec = \"SlqUneoxRmNhVYO3MNfpCapmprXoxvFDuKMLjraTr1eXM\""
   ]
  },
  {
   "cell_type": "code",
   "execution_count": 6,
   "metadata": {},
   "outputs": [],
   "source": [
    "api = Twython(app_key, app_sec, user_key, user_sec)"
   ]
  },
  {
   "cell_type": "code",
   "execution_count": 16,
   "metadata": {},
   "outputs": [],
   "source": [
    "tweets = api.search(q='#CAFire')"
   ]
  },
  {
   "cell_type": "code",
   "execution_count": 11,
   "metadata": {},
   "outputs": [
    {
     "data": {
      "text/plain": [
       "14"
      ]
     },
     "execution_count": 11,
     "metadata": {},
     "output_type": "execute_result"
    }
   ],
   "source": [
    "len(tweets['statuses'])"
   ]
  },
  {
   "cell_type": "code",
   "execution_count": 28,
   "metadata": {},
   "outputs": [
    {
     "data": {
      "text/plain": [
       "'RT @greenpeaceusa: Wildfires, like the #CAFire, are devastating for everyone, but a new study shows that low-income communities and communi…'"
      ]
     },
     "execution_count": 28,
     "metadata": {},
     "output_type": "execute_result"
    }
   ],
   "source": [
    "tweets['statuses'][0]['text']"
   ]
  },
  {
   "cell_type": "code",
   "execution_count": 24,
   "metadata": {},
   "outputs": [],
   "source": [
    "class FilterAPI(TwythonStreamer):\n",
    "    def on_success(self, data):\n",
    "        dt = datetime.now()\n",
    "        filename = \"ca_wildfires-%s.txt\" % (dt.strftime(\"%Y-%m-%d\"),)\n",
    "        if 'text' in data:\n",
    "            print(data['text'])\n",
    "            fp = codecs.open(filename, 'a', 'utf-8')\n",
    "            fp.write(json.dumps(data))\n",
    "            fp.write(\"\\n\")\n",
    "            fp.close()\n",
    "\n",
    "    def on_error(self, status_code, data):\n",
    "        print(\"ERROR!\")\n",
    "        print(status_code)"
   ]
  },
  {
   "cell_type": "code",
   "execution_count": 25,
   "metadata": {},
   "outputs": [],
   "source": [
    "stream = FilterAPI(app_key, app_sec, user_key, user_sec)"
   ]
  },
  {
   "cell_type": "code",
   "execution_count": 26,
   "metadata": {},
   "outputs": [
    {
     "name": "stdout",
     "output_type": "stream",
     "text": [
      "RT @HumanRtsV: #CaliforniaWildfires\n",
      "\n",
      "#StaySafe\n",
      "\n",
      "For current Info visit @CAL_FIRE’s incident information page.\n",
      "\n",
      "https://t.co/1hjIA2Poxi\n",
      "\n",
      "@VC…\n",
      "RT @MikeTokes: Another highly unusual irregularity of the California fires is this steel and asphalt bridge was on fire and buckled.\n",
      "\n",
      "I hav…\n",
      "RT @BulletinAtomic: California's #WoolseyFire started on the grounds of the Santa Susana Field Laboratory, a nuclear research site closed i…\n",
      "RT @MarisolSocalGas: Glad to be of service providing support to @SoCalGas’s response to the #Woolseyfire. Check out https://t.co/nTALo3nuQn…\n",
      "RT @MarkoSilberhand: @stonecold2050 Well said ! And so: don`t forget the animals in the #CaliforniaWildfires and thanks to all who take car…\n",
      "RT @activist360: In the ultimate insult to devastated Californians, Trump doubles-down and once again blames the California wildfires on fo…\n",
      "RT @LASDHQ: We are still here at the #WoolseyFire, every day we thank the fire crews working. We have yet to catch our breath and thank ove…\n",
      "RT @LACoSheriff: I’m very proud of the @LASDHQ men &amp; women who are squaring off vs @LAPDHQ in the Fight for Life Boxing Charity event to be…\n",
      "RT @DrDenaGrayson: What an uncaring, narcissistic fool @realDonaldTrump is. Hundreds of Americans in #CA have died or are missing, and thou…\n",
      "RT @mmpadellan: Over 1,000 people missing and 71 people dead in #CaliforniaWildfires.\n",
      "\n",
      "This is DEVASTATING.\n",
      "\n",
      "I hope folks can find their mi…\n",
      "RT @uhaul: Urgent: Our relief efforts are expanding to #SouthernCalifornia in the wake of the #WoolseyFire and #HillFire. Please share with…\n",
      "RT @CEDRdigital: Even though the fire is out, danger can still be present. Review the pamphlet below to stay safe after returning home.\n",
      "\n",
      "#L…\n",
      "RT @TheRealVOSTCat: Surviving the #CampFire was hard enough. Now these #animals have to find their humans. - The Washington Post https://t.…\n",
      "RT @LACoFDPIO: #WoolseyFire *UPDATE* is now 98,362 acres and 82% contained. Full incident fact sheet to follow. https://t.co/apGnMHdtUG\n",
      "UPDATES ADDED at bottom of article...\n",
      " https://t.co/zsnsGnBxMN\n",
      "\n",
      "#CaliforniaFires #Wildfires #californiawildfires… https://t.co/yvGPkYxWuy\n",
      "RT @phil500: Lost and found pets. Please retweet #CaliforniaWildfires #CaliforniaFire https://t.co/AwnR59BWMR\n",
      "RT @IndivisibleVent: Fri 11/16: Resources, for those who can help &amp; for those who need it. \n",
      "#CaliforniaFires/#BorderlineBarShooting \n",
      "\n",
      "Where…\n",
      "RT @mmpadellan: Over 1,000 people missing and 71 people dead in #CaliforniaWildfires.\n",
      "\n",
      "This is DEVASTATING.\n",
      "\n",
      "I hope folks can find their mi…\n",
      "RT @DrDenaGrayson: What an uncaring, narcissistic fool @realDonaldTrump is. Hundreds of Americans in #CA have died or are missing, and thou…\n",
      "RT @MPRweather: National media mentioned #climatechange in only 4% of California fire stories. That's a shameful dereliction of journalisti…\n",
      "RT @MarkoSilberhand: @stonecold2050 Well said ! And so: don`t forget the animals in the #CaliforniaWildfires and thanks to all who take car…\n",
      "RT @MostafaMe4: Beautiful story\n",
      "93-Yr-Old Veteran Sleeps In Car After Fleeing Wildfire, Then Stranger Says ‘You’re Coming With Us’\n",
      "#USA #Ca…\n",
      "I love doing virtual races and @VirtualStrides emailed me info on their #LendAHand race to help… https://t.co/lrJlIRLWxv\n",
      "RT @BulletinAtomic: California's #WoolseyFire started on the grounds of the Santa Susana Field Laboratory, a nuclear research site closed i…\n",
      "RT @_rachelyang: It’s expected that the iconic Paramount Ranch will reopen in about 24 months, says David Szymanski, superintendent of Sant…\n",
      "RT @Airbnb: We have opened a support hotline for #CampFire #WoolseyFire #HillFire.\n",
      "\n",
      "If you have been evacuated and need free temporary acco…\n",
      "RT @leahmcelrath: The fire resulting in many deaths and missing is in the usually moist environment of NORTHERN California.\n",
      "\n",
      "They are using…\n",
      "RT @NastyWomenofNPS: Three park rangers and their families have lost everything. The Santa Monica Mountains Employee Association is raising…\n",
      "my payers....\n",
      "Missing Persons List\n",
      "\n",
      "https://t.co/4m6GPjGOpD\n",
      "\n",
      "#CampFireJamesWoods #CampFire #CampFirePets #Paradise #ParadiseFires… https://t.co/5S3owWYMQG\n",
      "RT @AlvinASBO: This is heartbreaking!! 💔 Poor babies. Please retweet so they can be reunited with their hoomans!! #CaliforniaFires #Califor…\n",
      "Temporary Flight Restriction for POTUS SoCal Visit #WoolseyFire https://t.co/ecITrDEp4x\n",
      "RT @UFWupdates: We need your help. Have you seen farmworkers laboring w/o masks in bad air due to #VenturaFire? Call us so we can report it…\n",
      "RT @mmpadellan: Over 1,000 people missing and 71 people dead in #CaliforniaWildfires.\n",
      "\n",
      "This is DEVASTATING.\n",
      "\n",
      "I hope folks can find their mi…\n",
      "RT @Airbnb: We have opened a support hotline for #CampFire #WoolseyFire #HillFire.\n",
      "\n",
      "If you have been evacuated and need free temporary acco…\n",
      "RT @leahmcelrath: The fire resulting in many deaths and missing is in the usually moist environment of NORTHERN California.\n",
      "\n",
      "They are using…\n",
      "RT @Amber02150: 🍁@JenaC2 🧚‍♂️😽🐾\n",
      "🎃Happy Friday dearest Jena🧚‍♂️😺🐾🍄🍂\n",
      "🍂A great upcoming weekend to you too lovely little fairy🧚‍♂️🍄🍂🎃🍁\n",
      "\n",
      "🍁Hope…\n",
      "RT @femaregion9: California: Disaster Survivor Assistance teams continue to visit shelters in Butte, Los Angeles, and Ventura counties to r…\n",
      "RT @ArmisticeBeer: Due to the devastating fires in both  Northern and Southern California, we will be donating $1 per pint of our newest be…\n",
      "RT @BulletinAtomic: California's #WoolseyFire started on the grounds of the Santa Susana Field Laboratory, a nuclear research site closed i…\n",
      "RT @mmpadellan: Over 1,000 people missing and 71 people dead in #CaliforniaWildfires.\n",
      "\n",
      "This is DEVASTATING.\n",
      "\n",
      "I hope folks can find their mi…\n",
      "RT @MBLFDFFS: WA Strike Team 6(Central Region) is headed home! They left the #WoolseyFire this morning and plan to spend the night in Medfo…\n",
      "RT @WildRumpusTime: If it were not for the farmworkers we would not have the luxury of eating fresh food at the prices we enjoy now. Lets d…\n",
      "RT @TrevorGHouser: The 25 counties with unhealthy or hazardous air from the #CaliforniaWildfires have as many people as these 9 states comb…\n",
      "RT @DrDenaGrayson: What an uncaring, narcissistic fool @realDonaldTrump is. Hundreds of Americans in #CA have died or are missing, and thou…\n",
      "RT @LASDHQ: #Animals are not only worthy of our respect. They deserve it. Here's just a few of our 4-legged friends affected by #WoolseyFir…\n",
      "🐾🔥🐾❤🐎 #DontGiveUp Your pet may appear very different, sooty, singed, bandaged. Look again! #MissingPets… https://t.co/0NaiSGwA4n\n",
      "RT @ScientologyVM: VIDEO: RT @LACoFireAirOps Firehawk helicopter flying along Pacific Coast Highway in Malibu on the way to protect life an…\n",
      "RT @ScientologyVM: VIDEO: RT @LACoFireAirOps Firehawk helicopter flying along Pacific Coast Highway in Malibu on the way to protect life an…\n",
      "RT @ProDanielSamba: If you stop questioning you certainly stop living!\n",
      "The magic forest fire that SKIPS OVER the forest to Only Burn houses…\n",
      "RT @endthemaddnesss: 🚨🚨#MissingPerson &amp; #Dog🚨🚨Julian Binstock &amp; his dog evacuated 11-8 from feather canyon retirement community in #Paradis…\n",
      "RT @endthemaddnesss: 🚨🚨#MissingPerson &amp; #Dog🚨🚨Julian Binstock &amp; his dog evacuated 11-8 from feather canyon retirement community in #Paradis…\n",
      "Oh, he will. It’s in his DNA.\n",
      "RT @ScientologyVM: Kerri Kasem and a team of 84 Volunteer Ministers are on the ground assisting first responders who have been working arou…\n",
      "RT @ScientologyVM: Kerri Kasem and a team of 84 Volunteer Ministers are on the ground assisting first responders who have been working arou…\n",
      "RT @endthemaddnesss: 🚨🚨#MissingPerson &amp; #Dog🚨🚨Julian Binstock &amp; his dog evacuated 11-8 from feather canyon retirement community in #Paradis…\n",
      "RT @MarkoSilberhand: @stonecold2050 Well said ! And so: don`t forget the animals in the #CaliforniaWildfires and thanks to all who take car…\n",
      "#hillfire https://t.co/2k3JFnKDkf\n",
      "RT @kirkhawkins: Passing this along for victims of the #WoolseyFire from my friend @AngelFleig82 https://t.co/1dsyQpQlM3\n",
      "RT @MarcBurdiss: If you are still looking for vetted ways to helps those impacted by the #CampFire, The town of #Paradise has a website wit…\n",
      "RT @LACoFDPIO: #WoolseyFire *UPDATE* is now 98,362 acres and 82% contained. Full incident fact sheet to follow. https://t.co/apGnMHdtUG\n",
      "RT @Airbnb: We have opened a support hotline for #CampFire #WoolseyFire #HillFire.\n",
      "\n",
      "If you have been evacuated and need free temporary acco…\n"
     ]
    },
    {
     "name": "stdout",
     "output_type": "stream",
     "text": [
      "RT @LACountyCEO: We've launched our #WoolseyFire recovery resource page, which has detailed information on everything from air quality to m…\n",
      "RT @DrDenaGrayson: What an uncaring, narcissistic fool @realDonaldTrump is. Hundreds of Americans in #CA have died or are missing, and thou…\n",
      "RT @CityMalibu: GIC has an updated, high-resolution satellite image map showing the #Woolseyfire #Malibu burn area. It includes side-by-sid…\n",
      "RT @KristynBurtt: For anyone affected by the #WoolseyFire, @ShelterHopePets still has room for people &amp; their pets. They also need food don…\n",
      "RT @robbystarbuck: The fire was started by utility company Edison (SCE) and 2 months ago Governor Jerry Brown signed a bill allowing ALL ut…\n",
      "@GavinNewsom Moron. Destroying California one election at a time.  WATER FIXES FIRE. FOREST MANAGEMENT WILL REDUCE… https://t.co/7vc2ZVyuvQ\n",
      "RT @fadde: Kenny Britt putting out a fire on a small mtn that caught fire right next to his house.  By putting it out using a water jug, he…\n",
      "RT @DrDenaGrayson: What an uncaring, narcissistic fool @realDonaldTrump is. Hundreds of Americans in #CA have died or are missing, and thou…\n",
      "RT @MichaELofYHWH: UPDATES ADDED at bottom of article...\n",
      " https://t.co/zsnsGnBxMN\n",
      "\n",
      "#CaliforniaFires #Wildfires #californiawildfires #CampFi…\n",
      "RT @KristynBurtt: For anyone affected by the #WoolseyFire, @ShelterHopePets still has room for people &amp; their pets. They also need food don…\n",
      "RT @KristynBurtt: Here is the specific location information &amp; phone numbers for @ShelterHopePets. \n",
      "\n",
      "LOCATION:\n",
      "The Shelter Hope Pet Shop\n",
      "Jan…\n",
      "🐾🔥🐾❤🐎 #DontGiveUp Your pet may appear very different, sooty, singed, bandaged. Look again! #MissingPets… https://t.co/5aWTjG8Fll\n",
      "RT @CajunNavyRelief: If you were evacuated please register or have someone register you on the @RedCross #SafeandWell let's try to find eve…\n",
      "Problem solved with getting to the store on phones and tablets!  Sorry about that. First website I ever built.\n",
      "Sale… https://t.co/MmH6DgP3Cs\n",
      "✴️ Pray for truth ✴️ over lies\n",
      "\n",
      "✳️ Pray for right ✳️ over wrong\n",
      "\n",
      "🔥 Pray for fires 🔥 to die, not more of our people\n",
      "RT @_yanocchi0519: カリフォルニア州の大規模森林火災で、アスファルトの橋が所どころ貫通している様子。マジあり得ないんですけどッ!!!!! https://t.co/8KSc0ZfHiX\n",
      "RT @shanedawson: i’m so grateful for these people. wow. 🙏🏻🙏🏻🙏🏻 https://t.co/QMjEaWHfXz\n",
      "Will @StephenAtHome create another book about #CaliforniaWildfires to become a best seller since #FakePresident is… https://t.co/7hTL3w33K1\n",
      "RT @ScientologyVM: VIDEO: RT @LACoFireAirOps Firehawk helicopter flying along Pacific Coast Highway in Malibu on the way to protect life an…\n",
      "RT @Airbnb: We have opened a support hotline for #CampFire #WoolseyFire #HillFire.\n",
      "\n",
      "If you have been evacuated and need free temporary acco…\n",
      "RT @LACoFDPIO: #WoolseyFire *UPDATE* is now 98,362 acres and 82% contained. Full incident fact sheet to follow. https://t.co/apGnMHdtUG\n",
      "If he can shoot his car into space just to make a David Bowie joke and make a tiny submarine just to troll a strand… https://t.co/CcCK6nArvb\n",
      "RT @LASDHQ: Do you recognize these 4-legged heroes? They were found wandering in the #WoolseyFire areas. Retweet to help #LASD &amp; #DACCares…\n",
      "RT @mmpadellan: Over 1,000 people missing and 71 people dead in #CaliforniaWildfires.\n",
      "\n",
      "This is DEVASTATING.\n",
      "\n",
      "I hope folks can find their mi…\n",
      "RT @BradBauder: Found this online...\n",
      "\n",
      "#Helicopter 286 takes drains swimming pool during the #Calfire #WoolseyFire yesterday.\n",
      "\n",
      "“Sorry about…\n",
      "RT @MichaELofYHWH: UPDATES ADDED at bottom of article...\n",
      " https://t.co/zsnsGnBxMN\n",
      "\n",
      "#CaliforniaFires #Wildfires #californiawildfires #CampFi…\n",
      "I know people mean well, but whoever started that PSA about leaving out water for wild animals during fires is prob… https://t.co/5jRN5JAhmh\n",
      "RT @JamesW033: #DEW destroying California https://t.co/ZGPiVb6pgO\n",
      "RT @ProDanielSamba: If you stop questioning you certainly stop living!\n",
      "The magic forest fire that SKIPS OVER the forest to Only Burn houses…\n",
      "RT @bruntofitall: Of fucking course Republicans would push a tax bill that would end special benefits for wildfire victims... 😡\n",
      "\n",
      "I swear, h…\n",
      "RT @AmyTrask: Thank you @LASDHQ and everyone who is helping abandoned, lost, displaced animals - here’s hoping this retweet helps these lov…\n",
      "RT @CEDRdigital: #Animals #Woolsey #LosAngeles https://t.co/AM0N9de0Os\n",
      "RT @mmpadellan: Over 1,000 people missing and 71 people dead in #CaliforniaWildfires.\n",
      "\n",
      "This is DEVASTATING.\n",
      "\n",
      "I hope folks can find their mi…\n",
      "RT @DrDenaGrayson: What an uncaring, narcissistic fool @realDonaldTrump is. Hundreds of Americans in #CA have died or are missing, and thou…\n",
      "RT @LASDHQ: Do you recognize these 4-legged heroes? They were found wandering in the #WoolseyFire areas. Retweet to help #LASD &amp; #DACCares…\n",
      "RT @MikeTokes: Another highly unusual irregularity of the California fires is this steel and asphalt bridge was on fire and buckled.\n",
      "\n",
      "I hav…\n",
      "RT @robbystarbuck: The fire was started by utility company Edison (SCE) and 2 months ago Governor Jerry Brown signed a bill allowing ALL ut…\n",
      "RT @_NataliaTatiana: The animals are safe but the fire got so close to them, their fences were burned. Malibu wines lied about evacuating t…\n",
      "Heart breaking 😞\n",
      "RT @phil500: Lost and found pets. Please retweet #CaliforniaWildfires #CaliforniaFire https://t.co/AwnR59BWMR\n",
      "RT @ShotsRangOut: #California\n",
      "Thank you to all firefighters and everyone working to save lives.. \n",
      "#Heroes \n",
      "\n",
      "#CaliforniaFires \n",
      "#CaliforniaWi…\n",
      "RT @LACoFDPIO: #WoolseyFire *UPDATE* Full Incident Fact Sheet for Saturday morning November 17th: 98,362 and 82% contained. @LACOFD @VCFD_P…\n",
      "RT @djshaggy: @sfspca Is this Sunny? https://t.co/u3pXL1CiwS\n",
      "RT @lizziejohnsonnn: The latest #California fire update, with 237,151 total acres scorched:\n",
      "- #CampFire: 135,000 acres, 35% contained\n",
      "- #Hi…\n",
      "RT @mmpadellan: Over 1,000 people missing and 71 people dead in #CaliforniaWildfires.\n",
      "\n",
      "This is DEVASTATING.\n",
      "\n",
      "I hope folks can find their mi…\n",
      "RT @LASDHQ: Do you recognize these 4-legged heroes? They were found wandering in the #WoolseyFire areas. Retweet to help #LASD &amp; #DACCares…\n",
      "Pawsome!\n",
      "RT @robbystarbuck: The fire was started by utility company Edison (SCE) and 2 months ago Governor Jerry Brown signed a bill allowing ALL ut…\n",
      "RT @LASDHQ: Do you recognize these 4-legged heroes? They were found wandering in the #WoolseyFire areas. Retweet to help #LASD &amp; #DACCares…\n",
      "UPDATE: There are still six state highway road closures due to the impact of the #CampFire and #WoolseyFire. Please… https://t.co/CAdMeU1YFw\n",
      "RT @evankirstel: 😳The Malibu coast seen from the sea.\n",
      "\n",
      "#Malibu #MalibuFire #CaliforniaFires \n",
      "#WoolseyFire https://t.co/jbiJHo1Nxt\n",
      "RT @phil500: Lost and found pets. Please retweet #CaliforniaWildfires #CaliforniaFire https://t.co/AwnR59BWMR\n",
      "RT @phil500: Lost and found pets. Please retweet #CaliforniaWildfires #CaliforniaFire https://t.co/AwnR59BWMR\n",
      "There are insurance trailers and FEMA and OEM resources set up at Conejo Creek Park and at the Thouand Oaks Library… https://t.co/hwf7HqQJfM\n",
      "RT @LASDHQ: We are still here at the #WoolseyFire, every day we thank the fire crews working. We have yet to catch our breath and thank ove…\n",
      "RT @GLENNBOB1957: So Happy for this baby and owner!  Don't give up on your pets...Keep looking...They need you!  #CampFireJamesWoods #CampF…\n",
      "RT @CA_DMV: Residents impacted by the #WoolseyFire and #HillFire: We're offering limited services free of charge at a Local Assistance Cent…\n",
      "RT @mmpadellan: Over 1,000 people missing and 71 people dead in #CaliforniaWildfires.\n",
      "\n",
      "This is DEVASTATING.\n",
      "\n",
      "I hope folks can find their mi…\n",
      "RT @MariaDemopoulos: Thank you firefighters for risking your lives to save California. #WoolseyFire #HillFire #MalibuFire https://t.co/a5AV…\n",
      "RT @kkarop: MUST READ! https://t.co/0ijcbtzLk2\n",
      "#Trump is the most ignorant @POTUS in the history of our country. He also immerses himself in a world without… https://t.co/vgzIy96CYn\n",
      "RT @Airbnb: We have opened a support hotline for #CampFire #WoolseyFire #HillFire.\n",
      "\n",
      "If you have been evacuated and need free temporary acco…\n",
      "RT @Karen_Roth_AZ: 🔥🐎🔥❤🔥#HowToHelp #Donations #Donate #Cowboy911 #ButteCounty #ButteStrong #ParadiseFire\n",
      "#CaliforniaWildfires #CampFire #Ho…\n",
      "RT @phil500: Lost and found pets. Please retweet #CaliforniaWildfires #CaliforniaFire https://t.co/AwnR59BWMR\n"
     ]
    },
    {
     "name": "stdout",
     "output_type": "stream",
     "text": [
      "RT @2runtherace: This is from an Anonymous poster who lives in the fire area and lost his home!! #CaliforniaWildfires @realDonaldTrump Link…\n",
      "RT @LACoFireAirOps: VIDEO: @LACoFireAirOps Firehawk helicopter flying along Pacific Coast Highway in Malibu on the way to protect life and…\n",
      "RT @DrDenaGrayson: What an uncaring, narcissistic fool @realDonaldTrump is. Hundreds of Americans in #CA have died or are missing, and thou…\n",
      "RT @CannaFrom: @ClarenceHouse secret weaponry is getting out of hand now too https://t.co/AWbn2s0NKn\n",
      "🔥💲❤🔥💲❤🔥\n",
      "#HowToHelp \n",
      "No more stuff! Monetary \n",
      "#Donations needed now. ❤ #Donate #CaliforniaWildfires #CampFire… https://t.co/ZsQVw2SKiU\n",
      "RT @HumanRtsV: #CaliforniaWildfires\n",
      "\n",
      "#StaySafe\n",
      "\n",
      "For current Info visit @CAL_FIRE’s incident information page.\n",
      "\n",
      "https://t.co/1hjIA2Poxi\n",
      "\n",
      "@VC…\n",
      ".@realDonaldTrump : Get the FUCK out of my state, you bloviating, orange, toxic, fuckstick.\n",
      "\n",
      "Go the FUCK away.\n",
      "\n",
      "#CaliforniaWildfires\n",
      "RT @robbystarbuck: The fire was started by utility company Edison (SCE) and 2 months ago Governor Jerry Brown signed a bill allowing ALL ut…\n",
      "RT @LACoFDPIO: #WoolseyFire *UPDATE* is now 98,362 acres and 82% contained. Full incident fact sheet to follow. https://t.co/apGnMHdtUG\n",
      "RT @HensonTech: Thank you all for retweeting, we still haven't found her. Her home was at: 578 Roberts Road, Paradise, CA 95969\n",
      "She was con…\n",
      "RT @GLENNBOB1957: Make sure you look here if you are missing or found a pet! #CampFireJamesWoods #CampFire #CampFirePets #Paradise #Paradis…\n",
      "RT @TrevorGHouser: The 25 counties with unhealthy or hazardous air from the #CaliforniaWildfires have as many people as these 9 states comb…\n",
      "RT @KimKardashian: Shocked &amp; furious to learn smoke from the #WoolseyFire started at former nuclear testing site, Santa Susana Field Lab, &amp;…\n",
      "RT @Houston_Vicious: #campfire #WoolseyFire #CaliforniaFires #Modesto #BayArea #CaliforniaWildfires #ParadiseFire #PrayForCalifornia #PrayF…\n",
      "Normal San Francisco rainfall by this point in the season is 2.78 inches. We've had 0.21. Tell me again how… https://t.co/9JpXhZ7Uxa\n",
      "RT @robbystarbuck: The fire was started by utility company Edison (SCE) and 2 months ago Governor Jerry Brown signed a bill allowing ALL ut…\n",
      "RT @CountyofLA: These aerial photos show the widespread impact of the #WoolseyFire. With power and telephone poles burned, gas lines compro…\n",
      "RT @LASDHQ: We are still here at the #WoolseyFire, every day we thank the fire crews working. We have yet to catch our breath and thank ove…\n",
      "RT @robbystarbuck: The fire was started by utility company Edison (SCE) and 2 months ago Governor Jerry Brown signed a bill allowing ALL ut…\n",
      "The only reason Trump is coming to California is because it’s not raining here. @realDonaldTrump #CampFire #CaliforniaWildfires #Trump\n",
      "RT @threadreaderapp: @2runtherace Hi the unroll you asked for: Thread by @2runtherace: \"I’m putting some information from other Patriots to…\n",
      "#CampFireSmoke #CaliforniaFires #CaliforniaWildfires #DisasterAssistTeam #DisasterRelief\n",
      "#WoolseyFire Resources https://t.co/PI1fCETova\n",
      "RT @Khanoisseur: This is how you do it. Millionaire celebrities lost homes. Millions of lives and incomes on hold or are in jeopardy. Only…\n",
      "RT @jackcity4: Bro wasn’t tryna move back to bayonne https://t.co/hRae9Szgud\n",
      "RT @afpfr: Les ravages des incendies en Californie\n",
      "\n",
      "📷 @JoshEdelson #AFP #CaliforniaFires #CaliforniaWildfires https://t.co/nCJDgwmT5L\n",
      "@VickieHowell , I'm in!  My bro works up north in Canada at Oil Refineries as an advanced paramedic/firefighter.  H… https://t.co/PuoMi68f68\n",
      "RT @DrDenaGrayson: What an uncaring, narcissistic fool @realDonaldTrump is. Hundreds of Americans in #CA have died or are missing, and thou…\n",
      "RT @mmpadellan: Over 1,000 people missing and 71 people dead in #CaliforniaWildfires.\n",
      "\n",
      "This is DEVASTATING.\n",
      "\n",
      "I hope folks can find their mi…\n",
      "RT @Airbnb: We have opened a support hotline for #CampFire #WoolseyFire #HillFire.\n",
      "\n",
      "If you have been evacuated and need free temporary acco…\n",
      "RT @CaltransHQ: UPDATE: There are still six state highway road closures due to the impact of the #CampFire and #WoolseyFire. Please avoid t…\n",
      "RT @LASDHQ: Do you recognize these 4-legged heroes? They were found wandering in the #WoolseyFire areas. Retweet to help #LASD &amp; #DACCares…\n",
      "RT @CountyofLA: L.A. County &amp; partners are opening two Disaster Assistance Centers for #WoolseyFire victims tomorrow (11/17) to help with:…\n",
      "RT @Phoenixwmn: Peeps---PLEASE share this far &amp; wide, so victims of California fires have an idea where to go for help????--ALSO-if YOU can…\n",
      "RT @evankirstel: 😳This woman escaped the flames after rescuing animals in Malibu #CaliforniaFires #wildfires #CaliforniaWildfires https://t…\n",
      "RT @DrDenaGrayson: What an uncaring, narcissistic fool @realDonaldTrump is. Hundreds of Americans in #CA have died or are missing, and thou…\n",
      "If you’re interested in helping me as I try to help fire victims in California from #CampFire and #WoolseyFire - pl… https://t.co/dWrXsTIB4z\n",
      "RT @LACoFDPIO: #WoolseyFire @socalgas is working hard to ensure that residents returning to the affected areas can do so SAFELY. https://t.…\n",
      "RT @phil500: Lost and found pets. Please retweet #CaliforniaWildfires #CaliforniaFire https://t.co/AwnR59BWMR\n",
      "RT @HensonTech: Thank you all for retweeting, we still haven't found her. Her home was at: 578 Roberts Road, Paradise, CA 95969\n",
      "She was con…\n",
      "#CampFireJamesWoods #CampFire #CampFirePets #Paradise #ParadiseFires #ParadiseStrong #CaliforniaFires… https://t.co/d2zF3D7ls0\n",
      "RT @assistsup: These inspiring @LVUSD @MariposaSchool students raised $325 for #Woolseyfire impacted families by having a bake sale &amp; came…\n",
      "RT @DrDenaGrayson: What an uncaring, narcissistic fool @realDonaldTrump is. Hundreds of Americans in #CA have died or are missing, and thou…\n",
      "RT @DrDenaGrayson: What an uncaring, narcissistic fool @realDonaldTrump is. Hundreds of Americans in #CA have died or are missing, and thou…\n",
      "RT @mmpadellan: Over 1,000 people missing and 71 people dead in #CaliforniaWildfires.\n",
      "\n",
      "This is DEVASTATING.\n",
      "\n",
      "I hope folks can find their mi…\n",
      "RT @KimKardashian: Shocked &amp; furious to learn smoke from the #WoolseyFire started at former nuclear testing site, Santa Susana Field Lab, &amp;…\n",
      "RT @2runtherace: This is from an Anonymous poster who lives in the fire area and lost his home!! #CaliforniaWildfires @realDonaldTrump Link…\n",
      "RT @JMichaelsNews: We came back to #Paradise to continue reporting on the #CaliforniaWildfires. &gt;1,000 people are unaccounted for as the de…\n",
      "RT @KristynBurtt: For anyone affected by the #WoolseyFire, @ShelterHopePets still has room for people &amp; their pets. They also need food don…\n",
      "RT @andrewjgregor: .@realDonaldTrump : Get the FUCK out of my state, you bloviating, orange, toxic, fuckstick.\n",
      "\n",
      "Go the FUCK away.\n",
      "\n",
      "#Califor…\n",
      "RT @ABC7: Residents who live near #WoolseyFire burn areas are being warned to prepare now for the possibility of mudslides https://t.co/wXG…\n",
      "RT @LASDHQ: Another successful animal rescue. Picasso, Doc &amp; Nemo-3 horses were set free to be given a chance from #WoolseyFire All 3 survi…\n"
     ]
    },
    {
     "ename": "KeyboardInterrupt",
     "evalue": "",
     "output_type": "error",
     "traceback": [
      "\u001b[0;31m---------------------------------------------------------------------------\u001b[0m",
      "\u001b[0;31mKeyboardInterrupt\u001b[0m                         Traceback (most recent call last)",
      "\u001b[0;32m<ipython-input-26-3bdd7356158b>\u001b[0m in \u001b[0;36m<module>\u001b[0;34m()\u001b[0m\n\u001b[0;32m----> 1\u001b[0;31m \u001b[0mstream\u001b[0m\u001b[0;34m.\u001b[0m\u001b[0mstatuses\u001b[0m\u001b[0;34m.\u001b[0m\u001b[0mfilter\u001b[0m\u001b[0;34m(\u001b[0m\u001b[0mtrack\u001b[0m\u001b[0;34m=\u001b[0m\u001b[0mhashtags\u001b[0m\u001b[0;34m)\u001b[0m\u001b[0;34m\u001b[0m\u001b[0m\n\u001b[0m",
      "\u001b[0;32m~/.pyenv/versions/3.6.6/lib/python3.6/site-packages/twython/streaming/types.py\u001b[0m in \u001b[0;36mfilter\u001b[0;34m(self, **params)\u001b[0m\n\u001b[1;32m     65\u001b[0m         \u001b[0murl\u001b[0m \u001b[0;34m=\u001b[0m \u001b[0;34m'https://stream.twitter.com/%s/statuses/filter.json'\u001b[0m\u001b[0;31m \u001b[0m\u001b[0;31m\\\u001b[0m\u001b[0;34m\u001b[0m\u001b[0m\n\u001b[1;32m     66\u001b[0m               \u001b[0;34m%\u001b[0m \u001b[0mself\u001b[0m\u001b[0;34m.\u001b[0m\u001b[0mstreamer\u001b[0m\u001b[0;34m.\u001b[0m\u001b[0mapi_version\u001b[0m\u001b[0;34m\u001b[0m\u001b[0m\n\u001b[0;32m---> 67\u001b[0;31m         \u001b[0mself\u001b[0m\u001b[0;34m.\u001b[0m\u001b[0mstreamer\u001b[0m\u001b[0;34m.\u001b[0m\u001b[0m_request\u001b[0m\u001b[0;34m(\u001b[0m\u001b[0murl\u001b[0m\u001b[0;34m,\u001b[0m \u001b[0;34m'POST'\u001b[0m\u001b[0;34m,\u001b[0m \u001b[0mparams\u001b[0m\u001b[0;34m=\u001b[0m\u001b[0mparams\u001b[0m\u001b[0;34m)\u001b[0m\u001b[0;34m\u001b[0m\u001b[0m\n\u001b[0m\u001b[1;32m     68\u001b[0m \u001b[0;34m\u001b[0m\u001b[0m\n\u001b[1;32m     69\u001b[0m     \u001b[0;32mdef\u001b[0m \u001b[0msample\u001b[0m\u001b[0;34m(\u001b[0m\u001b[0mself\u001b[0m\u001b[0;34m,\u001b[0m \u001b[0;34m**\u001b[0m\u001b[0mparams\u001b[0m\u001b[0;34m)\u001b[0m\u001b[0;34m:\u001b[0m\u001b[0;34m\u001b[0m\u001b[0m\n",
      "\u001b[0;32m~/.pyenv/versions/3.6.6/lib/python3.6/site-packages/twython/streaming/api.py\u001b[0m in \u001b[0;36m_request\u001b[0;34m(self, url, method, params)\u001b[0m\n\u001b[1;32m    139\u001b[0m             \u001b[0mresponse\u001b[0m \u001b[0;34m=\u001b[0m \u001b[0m_send\u001b[0m\u001b[0;34m(\u001b[0m\u001b[0mretry_counter\u001b[0m\u001b[0;34m)\u001b[0m\u001b[0;34m\u001b[0m\u001b[0m\n\u001b[1;32m    140\u001b[0m \u001b[0;34m\u001b[0m\u001b[0m\n\u001b[0;32m--> 141\u001b[0;31m             \u001b[0;32mfor\u001b[0m \u001b[0mline\u001b[0m \u001b[0;32min\u001b[0m \u001b[0mresponse\u001b[0m\u001b[0;34m.\u001b[0m\u001b[0miter_lines\u001b[0m\u001b[0;34m(\u001b[0m\u001b[0mself\u001b[0m\u001b[0;34m.\u001b[0m\u001b[0mchunk_size\u001b[0m\u001b[0;34m)\u001b[0m\u001b[0;34m:\u001b[0m\u001b[0;34m\u001b[0m\u001b[0m\n\u001b[0m\u001b[1;32m    142\u001b[0m                 \u001b[0;32mif\u001b[0m \u001b[0;32mnot\u001b[0m \u001b[0mself\u001b[0m\u001b[0;34m.\u001b[0m\u001b[0mconnected\u001b[0m\u001b[0;34m:\u001b[0m\u001b[0;34m\u001b[0m\u001b[0m\n\u001b[1;32m    143\u001b[0m                     \u001b[0;32mbreak\u001b[0m\u001b[0;34m\u001b[0m\u001b[0m\n",
      "\u001b[0;32m~/.pyenv/versions/3.6.6/lib/python3.6/site-packages/requests/models.py\u001b[0m in \u001b[0;36miter_lines\u001b[0;34m(self, chunk_size, decode_unicode, delimiter)\u001b[0m\n\u001b[1;32m    791\u001b[0m         \u001b[0mpending\u001b[0m \u001b[0;34m=\u001b[0m \u001b[0;32mNone\u001b[0m\u001b[0;34m\u001b[0m\u001b[0m\n\u001b[1;32m    792\u001b[0m \u001b[0;34m\u001b[0m\u001b[0m\n\u001b[0;32m--> 793\u001b[0;31m         \u001b[0;32mfor\u001b[0m \u001b[0mchunk\u001b[0m \u001b[0;32min\u001b[0m \u001b[0mself\u001b[0m\u001b[0;34m.\u001b[0m\u001b[0miter_content\u001b[0m\u001b[0;34m(\u001b[0m\u001b[0mchunk_size\u001b[0m\u001b[0;34m=\u001b[0m\u001b[0mchunk_size\u001b[0m\u001b[0;34m,\u001b[0m \u001b[0mdecode_unicode\u001b[0m\u001b[0;34m=\u001b[0m\u001b[0mdecode_unicode\u001b[0m\u001b[0;34m)\u001b[0m\u001b[0;34m:\u001b[0m\u001b[0;34m\u001b[0m\u001b[0m\n\u001b[0m\u001b[1;32m    794\u001b[0m \u001b[0;34m\u001b[0m\u001b[0m\n\u001b[1;32m    795\u001b[0m             \u001b[0;32mif\u001b[0m \u001b[0mpending\u001b[0m \u001b[0;32mis\u001b[0m \u001b[0;32mnot\u001b[0m \u001b[0;32mNone\u001b[0m\u001b[0;34m:\u001b[0m\u001b[0;34m\u001b[0m\u001b[0m\n",
      "\u001b[0;32m~/.pyenv/versions/3.6.6/lib/python3.6/site-packages/requests/models.py\u001b[0m in \u001b[0;36mgenerate\u001b[0;34m()\u001b[0m\n\u001b[1;32m    747\u001b[0m             \u001b[0;32mif\u001b[0m \u001b[0mhasattr\u001b[0m\u001b[0;34m(\u001b[0m\u001b[0mself\u001b[0m\u001b[0;34m.\u001b[0m\u001b[0mraw\u001b[0m\u001b[0;34m,\u001b[0m \u001b[0;34m'stream'\u001b[0m\u001b[0;34m)\u001b[0m\u001b[0;34m:\u001b[0m\u001b[0;34m\u001b[0m\u001b[0m\n\u001b[1;32m    748\u001b[0m                 \u001b[0;32mtry\u001b[0m\u001b[0;34m:\u001b[0m\u001b[0;34m\u001b[0m\u001b[0m\n\u001b[0;32m--> 749\u001b[0;31m                     \u001b[0;32mfor\u001b[0m \u001b[0mchunk\u001b[0m \u001b[0;32min\u001b[0m \u001b[0mself\u001b[0m\u001b[0;34m.\u001b[0m\u001b[0mraw\u001b[0m\u001b[0;34m.\u001b[0m\u001b[0mstream\u001b[0m\u001b[0;34m(\u001b[0m\u001b[0mchunk_size\u001b[0m\u001b[0;34m,\u001b[0m \u001b[0mdecode_content\u001b[0m\u001b[0;34m=\u001b[0m\u001b[0;32mTrue\u001b[0m\u001b[0;34m)\u001b[0m\u001b[0;34m:\u001b[0m\u001b[0;34m\u001b[0m\u001b[0m\n\u001b[0m\u001b[1;32m    750\u001b[0m                         \u001b[0;32myield\u001b[0m \u001b[0mchunk\u001b[0m\u001b[0;34m\u001b[0m\u001b[0m\n\u001b[1;32m    751\u001b[0m                 \u001b[0;32mexcept\u001b[0m \u001b[0mProtocolError\u001b[0m \u001b[0;32mas\u001b[0m \u001b[0me\u001b[0m\u001b[0;34m:\u001b[0m\u001b[0;34m\u001b[0m\u001b[0m\n",
      "\u001b[0;32m~/.pyenv/versions/3.6.6/lib/python3.6/site-packages/urllib3/response.py\u001b[0m in \u001b[0;36mstream\u001b[0;34m(self, amt, decode_content)\u001b[0m\n\u001b[1;32m    459\u001b[0m         \"\"\"\n\u001b[1;32m    460\u001b[0m         \u001b[0;32mif\u001b[0m \u001b[0mself\u001b[0m\u001b[0;34m.\u001b[0m\u001b[0mchunked\u001b[0m \u001b[0;32mand\u001b[0m \u001b[0mself\u001b[0m\u001b[0;34m.\u001b[0m\u001b[0msupports_chunked_reads\u001b[0m\u001b[0;34m(\u001b[0m\u001b[0;34m)\u001b[0m\u001b[0;34m:\u001b[0m\u001b[0;34m\u001b[0m\u001b[0m\n\u001b[0;32m--> 461\u001b[0;31m             \u001b[0;32mfor\u001b[0m \u001b[0mline\u001b[0m \u001b[0;32min\u001b[0m \u001b[0mself\u001b[0m\u001b[0;34m.\u001b[0m\u001b[0mread_chunked\u001b[0m\u001b[0;34m(\u001b[0m\u001b[0mamt\u001b[0m\u001b[0;34m,\u001b[0m \u001b[0mdecode_content\u001b[0m\u001b[0;34m=\u001b[0m\u001b[0mdecode_content\u001b[0m\u001b[0;34m)\u001b[0m\u001b[0;34m:\u001b[0m\u001b[0;34m\u001b[0m\u001b[0m\n\u001b[0m\u001b[1;32m    462\u001b[0m                 \u001b[0;32myield\u001b[0m \u001b[0mline\u001b[0m\u001b[0;34m\u001b[0m\u001b[0m\n\u001b[1;32m    463\u001b[0m         \u001b[0;32melse\u001b[0m\u001b[0;34m:\u001b[0m\u001b[0;34m\u001b[0m\u001b[0m\n",
      "\u001b[0;32m~/.pyenv/versions/3.6.6/lib/python3.6/site-packages/urllib3/response.py\u001b[0m in \u001b[0;36mread_chunked\u001b[0;34m(self, amt, decode_content)\u001b[0m\n\u001b[1;32m    635\u001b[0m \u001b[0;34m\u001b[0m\u001b[0m\n\u001b[1;32m    636\u001b[0m             \u001b[0;32mwhile\u001b[0m \u001b[0;32mTrue\u001b[0m\u001b[0;34m:\u001b[0m\u001b[0;34m\u001b[0m\u001b[0m\n\u001b[0;32m--> 637\u001b[0;31m                 \u001b[0mself\u001b[0m\u001b[0;34m.\u001b[0m\u001b[0m_update_chunk_length\u001b[0m\u001b[0;34m(\u001b[0m\u001b[0;34m)\u001b[0m\u001b[0;34m\u001b[0m\u001b[0m\n\u001b[0m\u001b[1;32m    638\u001b[0m                 \u001b[0;32mif\u001b[0m \u001b[0mself\u001b[0m\u001b[0;34m.\u001b[0m\u001b[0mchunk_left\u001b[0m \u001b[0;34m==\u001b[0m \u001b[0;36m0\u001b[0m\u001b[0;34m:\u001b[0m\u001b[0;34m\u001b[0m\u001b[0m\n\u001b[1;32m    639\u001b[0m                     \u001b[0;32mbreak\u001b[0m\u001b[0;34m\u001b[0m\u001b[0m\n",
      "\u001b[0;32m~/.pyenv/versions/3.6.6/lib/python3.6/site-packages/urllib3/response.py\u001b[0m in \u001b[0;36m_update_chunk_length\u001b[0;34m(self)\u001b[0m\n\u001b[1;32m    567\u001b[0m         \u001b[0;32mif\u001b[0m \u001b[0mself\u001b[0m\u001b[0;34m.\u001b[0m\u001b[0mchunk_left\u001b[0m \u001b[0;32mis\u001b[0m \u001b[0;32mnot\u001b[0m \u001b[0;32mNone\u001b[0m\u001b[0;34m:\u001b[0m\u001b[0;34m\u001b[0m\u001b[0m\n\u001b[1;32m    568\u001b[0m             \u001b[0;32mreturn\u001b[0m\u001b[0;34m\u001b[0m\u001b[0m\n\u001b[0;32m--> 569\u001b[0;31m         \u001b[0mline\u001b[0m \u001b[0;34m=\u001b[0m \u001b[0mself\u001b[0m\u001b[0;34m.\u001b[0m\u001b[0m_fp\u001b[0m\u001b[0;34m.\u001b[0m\u001b[0mfp\u001b[0m\u001b[0;34m.\u001b[0m\u001b[0mreadline\u001b[0m\u001b[0;34m(\u001b[0m\u001b[0;34m)\u001b[0m\u001b[0;34m\u001b[0m\u001b[0m\n\u001b[0m\u001b[1;32m    570\u001b[0m         \u001b[0mline\u001b[0m \u001b[0;34m=\u001b[0m \u001b[0mline\u001b[0m\u001b[0;34m.\u001b[0m\u001b[0msplit\u001b[0m\u001b[0;34m(\u001b[0m\u001b[0;34mb';'\u001b[0m\u001b[0;34m,\u001b[0m \u001b[0;36m1\u001b[0m\u001b[0;34m)\u001b[0m\u001b[0;34m[\u001b[0m\u001b[0;36m0\u001b[0m\u001b[0;34m]\u001b[0m\u001b[0;34m\u001b[0m\u001b[0m\n\u001b[1;32m    571\u001b[0m         \u001b[0;32mtry\u001b[0m\u001b[0;34m:\u001b[0m\u001b[0;34m\u001b[0m\u001b[0m\n",
      "\u001b[0;32m~/.pyenv/versions/3.6.6/lib/python3.6/socket.py\u001b[0m in \u001b[0;36mreadinto\u001b[0;34m(self, b)\u001b[0m\n\u001b[1;32m    584\u001b[0m         \u001b[0;32mwhile\u001b[0m \u001b[0;32mTrue\u001b[0m\u001b[0;34m:\u001b[0m\u001b[0;34m\u001b[0m\u001b[0m\n\u001b[1;32m    585\u001b[0m             \u001b[0;32mtry\u001b[0m\u001b[0;34m:\u001b[0m\u001b[0;34m\u001b[0m\u001b[0m\n\u001b[0;32m--> 586\u001b[0;31m                 \u001b[0;32mreturn\u001b[0m \u001b[0mself\u001b[0m\u001b[0;34m.\u001b[0m\u001b[0m_sock\u001b[0m\u001b[0;34m.\u001b[0m\u001b[0mrecv_into\u001b[0m\u001b[0;34m(\u001b[0m\u001b[0mb\u001b[0m\u001b[0;34m)\u001b[0m\u001b[0;34m\u001b[0m\u001b[0m\n\u001b[0m\u001b[1;32m    587\u001b[0m             \u001b[0;32mexcept\u001b[0m \u001b[0mtimeout\u001b[0m\u001b[0;34m:\u001b[0m\u001b[0;34m\u001b[0m\u001b[0m\n\u001b[1;32m    588\u001b[0m                 \u001b[0mself\u001b[0m\u001b[0;34m.\u001b[0m\u001b[0m_timeout_occurred\u001b[0m \u001b[0;34m=\u001b[0m \u001b[0;32mTrue\u001b[0m\u001b[0;34m\u001b[0m\u001b[0m\n",
      "\u001b[0;32m~/.pyenv/versions/3.6.6/lib/python3.6/ssl.py\u001b[0m in \u001b[0;36mrecv_into\u001b[0;34m(self, buffer, nbytes, flags)\u001b[0m\n\u001b[1;32m   1007\u001b[0m                   \u001b[0;34m\"non-zero flags not allowed in calls to recv_into() on %s\"\u001b[0m \u001b[0;34m%\u001b[0m\u001b[0;34m\u001b[0m\u001b[0m\n\u001b[1;32m   1008\u001b[0m                   self.__class__)\n\u001b[0;32m-> 1009\u001b[0;31m             \u001b[0;32mreturn\u001b[0m \u001b[0mself\u001b[0m\u001b[0;34m.\u001b[0m\u001b[0mread\u001b[0m\u001b[0;34m(\u001b[0m\u001b[0mnbytes\u001b[0m\u001b[0;34m,\u001b[0m \u001b[0mbuffer\u001b[0m\u001b[0;34m)\u001b[0m\u001b[0;34m\u001b[0m\u001b[0m\n\u001b[0m\u001b[1;32m   1010\u001b[0m         \u001b[0;32melse\u001b[0m\u001b[0;34m:\u001b[0m\u001b[0;34m\u001b[0m\u001b[0m\n\u001b[1;32m   1011\u001b[0m             \u001b[0;32mreturn\u001b[0m \u001b[0msocket\u001b[0m\u001b[0;34m.\u001b[0m\u001b[0mrecv_into\u001b[0m\u001b[0;34m(\u001b[0m\u001b[0mself\u001b[0m\u001b[0;34m,\u001b[0m \u001b[0mbuffer\u001b[0m\u001b[0;34m,\u001b[0m \u001b[0mnbytes\u001b[0m\u001b[0;34m,\u001b[0m \u001b[0mflags\u001b[0m\u001b[0;34m)\u001b[0m\u001b[0;34m\u001b[0m\u001b[0m\n",
      "\u001b[0;32m~/.pyenv/versions/3.6.6/lib/python3.6/ssl.py\u001b[0m in \u001b[0;36mread\u001b[0;34m(self, len, buffer)\u001b[0m\n\u001b[1;32m    869\u001b[0m             \u001b[0;32mraise\u001b[0m \u001b[0mValueError\u001b[0m\u001b[0;34m(\u001b[0m\u001b[0;34m\"Read on closed or unwrapped SSL socket.\"\u001b[0m\u001b[0;34m)\u001b[0m\u001b[0;34m\u001b[0m\u001b[0m\n\u001b[1;32m    870\u001b[0m         \u001b[0;32mtry\u001b[0m\u001b[0;34m:\u001b[0m\u001b[0;34m\u001b[0m\u001b[0m\n\u001b[0;32m--> 871\u001b[0;31m             \u001b[0;32mreturn\u001b[0m \u001b[0mself\u001b[0m\u001b[0;34m.\u001b[0m\u001b[0m_sslobj\u001b[0m\u001b[0;34m.\u001b[0m\u001b[0mread\u001b[0m\u001b[0;34m(\u001b[0m\u001b[0mlen\u001b[0m\u001b[0;34m,\u001b[0m \u001b[0mbuffer\u001b[0m\u001b[0;34m)\u001b[0m\u001b[0;34m\u001b[0m\u001b[0m\n\u001b[0m\u001b[1;32m    872\u001b[0m         \u001b[0;32mexcept\u001b[0m \u001b[0mSSLError\u001b[0m \u001b[0;32mas\u001b[0m \u001b[0mx\u001b[0m\u001b[0;34m:\u001b[0m\u001b[0;34m\u001b[0m\u001b[0m\n\u001b[1;32m    873\u001b[0m             \u001b[0;32mif\u001b[0m \u001b[0mx\u001b[0m\u001b[0;34m.\u001b[0m\u001b[0margs\u001b[0m\u001b[0;34m[\u001b[0m\u001b[0;36m0\u001b[0m\u001b[0;34m]\u001b[0m \u001b[0;34m==\u001b[0m \u001b[0mSSL_ERROR_EOF\u001b[0m \u001b[0;32mand\u001b[0m \u001b[0mself\u001b[0m\u001b[0;34m.\u001b[0m\u001b[0msuppress_ragged_eofs\u001b[0m\u001b[0;34m:\u001b[0m\u001b[0;34m\u001b[0m\u001b[0m\n",
      "\u001b[0;32m~/.pyenv/versions/3.6.6/lib/python3.6/ssl.py\u001b[0m in \u001b[0;36mread\u001b[0;34m(self, len, buffer)\u001b[0m\n\u001b[1;32m    629\u001b[0m         \"\"\"\n\u001b[1;32m    630\u001b[0m         \u001b[0;32mif\u001b[0m \u001b[0mbuffer\u001b[0m \u001b[0;32mis\u001b[0m \u001b[0;32mnot\u001b[0m \u001b[0;32mNone\u001b[0m\u001b[0;34m:\u001b[0m\u001b[0;34m\u001b[0m\u001b[0m\n\u001b[0;32m--> 631\u001b[0;31m             \u001b[0mv\u001b[0m \u001b[0;34m=\u001b[0m \u001b[0mself\u001b[0m\u001b[0;34m.\u001b[0m\u001b[0m_sslobj\u001b[0m\u001b[0;34m.\u001b[0m\u001b[0mread\u001b[0m\u001b[0;34m(\u001b[0m\u001b[0mlen\u001b[0m\u001b[0;34m,\u001b[0m \u001b[0mbuffer\u001b[0m\u001b[0;34m)\u001b[0m\u001b[0;34m\u001b[0m\u001b[0m\n\u001b[0m\u001b[1;32m    632\u001b[0m         \u001b[0;32melse\u001b[0m\u001b[0;34m:\u001b[0m\u001b[0;34m\u001b[0m\u001b[0m\n\u001b[1;32m    633\u001b[0m             \u001b[0mv\u001b[0m \u001b[0;34m=\u001b[0m \u001b[0mself\u001b[0m\u001b[0;34m.\u001b[0m\u001b[0m_sslobj\u001b[0m\u001b[0;34m.\u001b[0m\u001b[0mread\u001b[0m\u001b[0;34m(\u001b[0m\u001b[0mlen\u001b[0m\u001b[0;34m)\u001b[0m\u001b[0;34m\u001b[0m\u001b[0m\n",
      "\u001b[0;31mKeyboardInterrupt\u001b[0m: "
     ]
    }
   ],
   "source": [
    "stream.statuses.filter(track=hashtags)"
   ]
  },
  {
   "cell_type": "code",
   "execution_count": 29,
   "metadata": {},
   "outputs": [
    {
     "name": "stdout",
     "output_type": "stream",
     "text": [
      "107\n"
     ]
    }
   ],
   "source": [
    "tweets = []\n",
    "for hashtag in hashtags:\n",
    "    results = api.search(q=hashtag)\n",
    "    for status in results['statuses']:\n",
    "        tweets.append(status['text'])\n",
    "print(len(tweets))"
   ]
  },
  {
   "cell_type": "code",
   "execution_count": 32,
   "metadata": {},
   "outputs": [
    {
     "data": {
      "text/plain": [
       "['I see a Fire Fish diving down! This photo leaves you speechless - \"#PeakFire🔥 https://t.co/PxoYUtThwe 🐠🔥… https://t.co/ffFrfQiv2y',\n",
       " 'RT @UtahEmergency: Update on the #UtahEMAC deployment to the #CaliforniaWildfires: \\nThe 4 task forces are in good spirits and working hard…',\n",
       " 'RT @jftaveira1993: Amid powerful Santa Ana winds, a new brush fire broke out Monday off the 118 Freeway on the eastern end of #SimiValley,…',\n",
       " 'RT @BreakinNewz01: Another wildfire broke out today in Southern California, with the blaze in Simi Valley closing both sides of the 118 Fre…',\n",
       " \"RT @CBSLA: WATCH: Firefighters battle the #PeakFire in Simi Valley from the air and the ground. They're making progress: https://t.co/XZWSK…\",\n",
       " 'RT @CodeRed001Blue: Update on the #UtahEMAC deployment to the #CaliforniaWildfires: \\nThe 4 task forces are in good spirits and working hard…',\n",
       " 'Solutions to #wildfires in time of #ClimateChange are costly and unpopular via @ijournal #californiawildfires… https://t.co/43tBz0Oyhj',\n",
       " 'RT @PMBreakingNews: Breaking: A new fire, being called #RockyFire or #PeakFire, is burning near the 118 freeway in Simi Valley, California.…',\n",
       " \"How insurance industry might react to 'new normal' of California's historic wildfires via @ijournal #insurance… https://t.co/jLwOiS3dFB\",\n",
       " 'Will #California see more laws and regulations in wake of wildfires? via @ijournal #californiawildfires #rockyfire… https://t.co/QCM23S58cR']"
      ]
     },
     "execution_count": 32,
     "metadata": {},
     "output_type": "execute_result"
    }
   ],
   "source": [
    "tweets[30:40]"
   ]
  },
  {
   "cell_type": "code",
   "execution_count": 33,
   "metadata": {},
   "outputs": [],
   "source": [
    "with open('ca_wildfires_2018.txt', 'w') as f:\n",
    "    for line in tweets:\n",
    "        f.write(line+'\\n')\n"
   ]
  },
  {
   "cell_type": "code",
   "execution_count": null,
   "metadata": {},
   "outputs": [],
   "source": []
  }
 ],
 "metadata": {
  "kernelspec": {
   "display_name": "Python 3",
   "language": "python",
   "name": "python3"
  },
  "language_info": {
   "codemirror_mode": {
    "name": "ipython",
    "version": 3
   },
   "file_extension": ".py",
   "mimetype": "text/x-python",
   "name": "python",
   "nbconvert_exporter": "python",
   "pygments_lexer": "ipython3",
   "version": "3.6.6"
  }
 },
 "nbformat": 4,
 "nbformat_minor": 2
}
