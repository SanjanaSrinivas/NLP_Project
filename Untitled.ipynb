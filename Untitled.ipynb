{
 "cells": [
  {
   "cell_type": "code",
   "execution_count": 1,
   "metadata": {},
   "outputs": [],
   "source": [
    "data = open(\"/Users/apple/Desktop/WA_MUDSLIDE_100.txt\",\"r\")\n"
   ]
  },
  {
   "cell_type": "code",
   "execution_count": 5,
   "metadata": {},
   "outputs": [],
   "source": [
    "contents=data.read()"
   ]
  },
  {
   "cell_type": "code",
   "execution_count": 7,
   "metadata": {},
   "outputs": [
    {
     "data": {
      "text/plain": [
       "\"{\\\\rtf1\\\\ansi\\\\ansicpg1252\\\\cocoartf1504\\\\cocoasubrtf830\\n{\\\\fonttbl\\\\f0\\\\fmodern\\\\fcharset0 Courier;\\\\f1\\\\fnil\\\\fcharset0 AppleColorEmoji;}\\n{\\\\colortbl;\\\\red255\\\\green255\\\\blue255;\\\\red0\\\\green0\\\\blue0;}\\n{\\\\*\\\\expandedcolortbl;;\\\\cssrgb\\\\c0\\\\c0\\\\c0;}\\n\\\\paperw11900\\\\paperh16840\\\\margl1440\\\\margr1440\\\\vieww10800\\\\viewh8400\\\\viewkind0\\n\\\\deftab720\\n\\\\pard\\\\pardeftab720\\\\sl280\\\\partightenfactor0\\n\\n\\\\f0\\\\fs24 \\\\cf2 \\\\expnd0\\\\expndtw0\\\\kerning0\\n\\\\outl0\\\\strokewidth0 \\\\strokec2 #fireseason2015 #baldyfire @ Baldy Mountain https://t.co/wVEXYfsuOj, 2015-08-10 02:59:12, 24133430, 48.8229704, -117.5113593\\\\\\nHaving lunch at the top of the mountain. Starting to rain now. (@ Heather Meadows) https://t.co/wosY4N0RkS, 2015-08-12 23:12:03, 42983443, 48.86146805, -121.67890549\\\\\\nI knew the #airquality was bad in #Wenatchee due to the #wawildfires in the area,  didn't know it was\\\\'85 https://t.co/rPMAL2WvnT, 2015-08-13 06:09:12, 78648000, 47.4188004, -120.318367\\\\\\nFace masks available in Chelan County: RUNOFF FROM THESE STORMS MAY PRODUCE FLASH FLOODING AND DEBRIS FLOWS. H... http://t.co/mT2aOz2aTE, 2015-08-14 00:54:56, 198771200, 47.5962326, -120.6614765\\\\\\nStickpin Fire (Wildfire): The Stickpin Fire was likely started on Tuesday afternoon from lighting and was repo... http://t.co/9PXTkNEuUU, 2015-08-13 20:36:46, 44538849, 48.75638889, -118.46138889\\\\\\n#inciweb Stickpin Fire (Wildfire): The Stickpin Fire was likely started on Tuesday afternoon from lighting and... http://t.co/OuGNXcGuau, 2015-08-13 20:36:49, 90082730, 48.75638889, -118.46138889\\\\\\nSummer fires are awful,  but they do make some beautiful sunsets \\n\\\\f1 \\\\uc0\\\\u55357 \\\\u56867 \\\\u55356 \\\\u57092 \\n\\\\f0  #preventwildfires #wildfires\\\\'85 https://t.co/5YiaTpf9ZZ, 2015-08-14 02:10:49, 301176379, 47.69190796, -117.13215079\\\\\\n#inciweb Cougar Creek (Wildfire): Glenwood,  Wash. \\\\'96 The Cougar Creek Fire started on Monday,  August 11,  2015 a... http://t.co/woFpDY8fJG, 2015-08-13 23:49:10, 90082730, 46.13388889, -121.37361111\\\\\\nCougar Creek (Wildfire): Extreme fire behavior with crowning and long-range spotting pushed the Cougar Creek F... http://t.co/k9xqJm6M0h, 2015-08-14 05:02:22, 44538849, 46.13388889, -121.37361111\\\\\\nChelan Butte #chelanfire http://t.co/stFMVQU597, 2015-08-15 03:23:18, 4088231, 47.85665545, -120.03421213\\\\\\nFire selfie. Smoke be like #photobomb #fireseason2015 #baldyfire #lineemt @ Baldy Mountain https://t.co/wihH6D9ZFF, 2015-08-14 18:26:30, 24133430, 48.8229704, -117.5113593\\\\\\nAs if. #baldyfire #fireseason2015 @ Baldy Mountain https://t.co/qyH11kpjxS, 2015-08-14 14:57:14, 24133430, 48.8229704, -117.5113593\\\\\\nOhMyGosh you guys. FIRE. #missedaspot #baldyfire #fireseason2015 #lineemt @ Baldy Mountain https://t.co/Ec1t0jdT6B, 2015-08-14 18:24:38, 24133430, 48.8229704, -117.5113593\\\\\\nTo boldly go where no rental should ever probably go... #dozerline #baldyfire #fireseason2015 @ Baldy\\\\'85 https://t.co/1edODN8Lz2, 2015-08-14 14:56:14, 24133430, 48.8229704, -117.5113593\\\\\\nFollow the troops in. #fireseason2015 #baldyfire #lineemt @ Baldy Mountain https://t.co/nzuyU1gJSy, 2015-08-14 14:58:19, 24133430, 48.8229704, -117.5113593\\\\\\nThis can't be good,  4:30pm #sunset #duststorm #morefires #spokane @ Spokane,  Washington https://t.co/FA6feLA2aF, 2015-08-15 00:30:25, 1284464371, 47.6589, -117.425\\\\\\nIt's either a #zombie #apocalypse or just your average #August #haboob (dust storm) in #Spokane This\\\\'85 https://t.co/wW5HiuRmHV, 2015-08-15 00:18:13, 546644367, 47.63814331, -117.34412487\\\\\\nStorm is Brew'n #WallaWalla #GOTR - Drinking a Disruptor IPA by @IronHorseBeer @ Public House 124 \\\\'97 http://t.co/mzhQ6ZaBW1 #photo, 2015-08-14 22:28:47, 50369662, 46.0685, -118.336\\\\\\nPlease Jesus we need a ton of rain and no lightning., 2015-08-15 01:02:52, 1135843316, 46.5376567, -117.08796898\\\\\\nCougar Creek (Wildfire): The Cougar Creek Fire was ignited by lightning on Monday,  August 10,  2015. The initia... http://t.co/lGmvS4avVl, 2015-08-14 15:54:37, 44538849, 46.13388889, -121.37361111\\\\\\nSurvived the wildfires of Chelan,  now headed to Leavenworth. @ Lake\\\\'85 https://t.co/qLdHRQv1dh, 2015-08-15 19:05:38, 14821278, 47.63542885, -120.2389707\\\\\\n#inciweb Grizzly Bear Complex (Wildfire): The Grizzly Bear Complex consists of thirteen lightning fires burnin... http://t.co/APPamzvCBm, 2015-08-16 00:15:36, 90082730, 46.09777778, -117.7075\\\\\\nGrizzly Bear Complex (Wildfire): The Grizzly Bear Complex is comprised of thirteen lightning fires burning in ... http://t.co/qnEDL3LAOe, 2015-08-16 02:40:55, 44538849, 46.11055556, -117.68\\\\\\nAt 5:15 PM,  2 NE Carlton [Okanogan Co,  WA] NEWSPAPER reports HEAVY RAIN of E0.00 INCH #OTX http://t.co/eHJlDUmcJ4, 2015-08-16 01:00:20, 34928684, 48.26, -120.08\\\\\\nNine Mile (Wildfire): The Nine Mile Fire started on the afternoon of August 13 and is under investigation. The... http://t.co/nosrgmNncY, 2015-08-15 20:21:16, 44538849, 48.93777778, -119.30916667\\\\\\nAnother wildfire South of Colville,  WA @ Colville,  WA https://t.co/XoKwF7NUHH, 2015-08-15 20:51:44, 188305974, 48.535767, -117.907872\\\\\\nWashington is basically on fire right now #Godspeed #prayforFirefighters\\\\'85 https://t.co/H6j2cf6kGy, 2015-08-15 17:08:09, 312168562, 48.3561, -117.836\\\\\\nWe worked at trying to save a few big pines on the fire line. #wildland #chelanfire #firefighting\\\\'85 https://t.co/aWDzQp88tE, 2015-08-16 23:51:53, 18827892, 47.84277778, -120.02138889\\\\\\nNorth Star (Wildfire): Nespelem,  WA \\\\'96 The North Star Fire is threating the Moses Mountain Communication System... http://t.co/eaR52iqePY, 2015-08-16 21:34:15, 44538849, 48.33805556, -119.00166667\\\\\\nBlack Canyon (Wildfire): Black Canyon and McFarland Creek fires are actively burning in timber,  brush,  and sho... http://t.co/s1TsHTXzlT, 2015-08-17 01:49:34, 44538849, 48.05138889, -120.11333333\\\\\\nAt 5:15 PM,  2 NE Carlton [Okanogan Co,  WA] EMERGENCY MNGR reports FLASH FLOOD #OTX http://t.co/eHJlDUmcJ4, 2015-08-16 14:47:19, 34928684, 48.26, -120.08\\\\\\n#inciweb Black Canyon (Wildfire): Black Canyon and McFarland Creek fires are actively burning in timber,  brush... http://t.co/fodtlxdn8b, 2015-08-17 01:49:25, 90082730, 48.05138889, -120.11333333\\\\\\n#inciweb Nine Mile (Wildfire): A fire line is completely around the perimeter of the fire. Crews continue mop ... http://t.co/enU7fvNDA6, 2015-08-16 16:14:55, 90082730, 48.93777778, -119.30916667\\\\\\n@StationCDRKelly @NatasaKve cu at 9 pm pacific time tonight exactly tonight. It is the state on fire #wewillwave. #washingtononfire, 2015-08-17 23:22:14, 344775110, 46.25144999, -119.34572296\\\\\\nCrazy weekend at the lake. #chelanfire #chelan #lakechelanyachtclub @\\\\'85 https://t.co/Bkfig9Bof1, 2015-08-17 06:05:01, 305422003, 47.85215229, -120.1295774\\\\\\nCrazy weekend at the lake. #chelanfire #chelan #lakechelanyachtclub @\\\\'85 https://t.co/C8TtRLsndv, 2015-08-17 06:05:01, 305422003, 47.85215229, -120.1295774\\\\\\nWorked 7 am to 8:30 pm. Dinner at 9 pm. All you can eat. #wildfires #chelanfire #chelancomplex\\\\'85 https://t.co/co5SjgEqFR, 2015-08-18 04:29:34, 18827892, 47.80059134, -119.98328399\\\\\\nOkanogan Complex (Wildfire): Washington Incident Management Team 2 (WA IMT2) arrived yesterday and assumed com... http://t.co/XnYLFpUIZI, 2015-08-17 21:45:09, 44538849, 48.51861111, -119.66222222\\\\\\n#inciweb Okanogan Complex (Wildfire): Washington Incident Management Team 2 (WA IMT2) arrived yesterday and as... http://t.co/UGbYAgPreR, 2015-08-17 21:45:12, 90082730, 48.51861111, -119.66222222\\\\\\nOkanogan Complex (Wildfire): Washington Incident Management Team 2 (WA IMT2) arrived yesterday and assumed com... http://t.co/XnYLFpUIZI, 2015-08-17 21:45:09, 44538849, 48.51861111, -119.66222222\\\\\\n#inciweb Okanogan Complex (Wildfire): Washington Incident Management Team 2 (WA IMT2) arrived yesterday and as... http://t.co/UGbYAgPreR, 2015-08-17 21:45:12, 90082730, 48.51861111, -119.66222222\\\\\\nSmoky sun sets over Lake Chelan #WAwildfire @ Lake Chelan https://t.co/9jnXcqnEK3, 2015-08-19 04:18:06, 40804860, 47.8397408, -120.0159225\\\\\\nCharred hillside above Chelan and a house that was saved from the fire. #wildland #wildfires\\\\'85 https://t.co/pza1jPdSTq, 2015-08-18 19:33:27, 18827892, 47.84277778, -120.02138889\\\\\\nWildland firefighting lunch. #chelancomplex #chelanfire #firefighting #wildfires @ Chelan,  Washington https://t.co/w9PBxhusuB, 2015-08-18 19:49:24, 18827892, 47.84277778, -120.02138889\\\\\\nNeed. Fresh. Air. #wildfire #chelanfire @ Lake Chelan https://t.co/MlHkIVj8Mv, 2015-08-18 18:08:54, 20283059, 47.8397408, -120.0159225\\\\\\nKettle Complex (Wildfire): Incident Summary: The Kettle Complex includes four fires in northern Ferry County W... http://t.co/UgPETiEhZg, 2015-08-19 00:25:32, 44538849, 48.75638889, -118.46138889\\\\\\nHeaded home finally. Not quite the route I planned,  but.... #baldyfire #fireseason2015 #arewethereyet\\\\'85 https://t.co/CofNzhVkvM, 2015-08-19 01:25:36, 24133430, 48.81942702, -117.39783796\\\\\\nLast beer in the house. #showerbeer#homeatlast #fireseason2015 @ The Doghouse https://t.co/e7LVgNK68o, 2015-08-19 05:27:54, 24133430, 48.89081699, -117.79256202\\\\\\nLevel 3 evacuation for all of Twisp. #getoutnow #chelanfires, 2015-08-19 22:49:08, 17450228, 47.8606572, -120.0790543\\\\\\nHelp rebuild Chelan! Put us on your calendar to come over and help our community get back on it's feet! #chelanfires #lakechelan, 2015-08-20 00:47:19, 17450228, 47.8606558, -120.0790605\\\\\\n3 Wildland Fire Fighters lost their lives today.. my heart is sad #wildfire # real heroes http://t.co/y3BCP7TG9Z, 2015-08-20 05:47:32, 1413999294, 47.4260961, -120.3448263\\\\\\n#inciweb Kettle Complex (Wildfire): Incident Summary: The Kettle Complex includes four fires in northern Ferry... http://t.co/8zpz82pSSw, 2015-08-19 19:44:16, 90082730, 48.75638889, -118.46138889\\\\\\nNear Omak today. #wildfires #okanogancomplex #firefighting @ Omak,  Wash https://t.co/H5NVYoVGUq, 2015-08-20 05:24:54, 18827892, 48.43785193, -119.49956613\\\\\\n#inciweb North Star (Wildfire): A LEVEL 2 EVACUATION HAS BEEN ISSUED FOR RESIDENTS NORTH and EAST OF THE NESPE... http://t.co/zq6LQVGhmh, 2015-08-19 09:37:27, 90082730, 48.33805556, -119.00166667\\\\\\nWe saved a few houses. Lost a few. It was a long day. #firefighting #okanogancomplex #wildfires @\\\\'85 https://t.co/Eo4EjN3WBt, 2015-08-20 05:30:47, 18827892, 48.43785193, -119.49956613\\\\\\nNear Omak today. #wildfires #okanogancomplex #firefighting @ Omak,  Wash https://t.co/H5NVYoVGUq, 2015-08-20 05:24:54, 18827892, 48.43785193, -119.49956613\\\\\\n#inciweb North Star (Wildfire): A LEVEL 2 EVACUATION HAS BEEN ISSUED FOR RESIDENTS NORTH and EAST OF THE NESPE... http://t.co/zq6LQVGhmh, 2015-08-19 09:37:27, 90082730, 48.33805556, -119.00166667\\\\\\nWe saved a few houses. Lost a few. It was a long day. #firefighting #okanogancomplex #wildfires @\\\\'85 https://t.co/Eo4EjN3WBt, 2015-08-20 05:30:47, 18827892, 48.43785193, -119.49956613\\\\\\nHope all our #firefighters are staying safe. Thank you for your service. \\n\\\\f1 \\\\uc0\\\\u9996 \\\\u65039 \\n\\\\f0  #wa #washington #fire\\\\'85 https://t.co/TI5xMfRkkr, 2015-08-19 21:36:47, 1266336608, 46.6159632, -120.6692727\\\\\\nA beautiful morning for a boat ride! #chelanfires #firstcreekfire @ Lake\\\\'85 https://t.co/XZhEbyAcID, 2015-08-20 15:41:11, 17450228, 47.92062339, -120.21404664\\\\\\nBecause everyone's office looks like this right?? #chelancomplexfire\\\\'85 https://t.co/54wlbHgbLJ, 2015-08-20 14:28:18, 610241068, 47.8397408, -120.0159225\\\\\\n3 firefighters killed in battle against Washington\\\\'a0wildfire http://t.co/WI0g7QX95P, 2015-08-20 15:42:38, 18247597, 48.363478, -120.122303\\\\\\nThree firefighters lost their lives being heroes. They put their lives on the line to protect us. My\\\\'85 https://t.co/fmHTwCSDld, 2015-08-20 06:02:06, 18175961, 48.3636, -120.121\\\\\\nThe forest fire was pretty serious,  1000 firefighters and bombers. Luckily we evacuated in time. @\\\\'85 https://t.co/3bpPKwRQDU, 2015-08-20 17:25:07, 777844, 48.477787, -120.1851044\\\\\\nRed sunrise here.The smoke still here.The big wind storm is due today.Well, we will see what happens today. http://t.co/EhOdDpeqVh, 2015-08-20 13:36:27, 3010706766, 48.046938, -117.316686\\\\\\n3 firefighters killed in battle against Washington\\\\'a0wildfire http://t.co/WI0g7QX95P, 2015-08-20 15:42:38, 18247597, 48.363478, -120.122303\\\\\\nThree firefighters lost their lives being heroes. They put their lives on the line to protect us. My\\\\'85 https://t.co/fmHTwCSDld, 2015-08-20 06:02:06, 18175961, 48.3636, -120.121\\\\\\nThe forest fire was pretty serious,  1000 firefighters and bombers. Luckily we evacuated in time. @\\\\'85 https://t.co/3bpPKwRQDU, 2015-08-20 17:25:07, 777844, 48.477787, -120.1851044\\\\\\n#inciweb Carpenter Road Fire (Wildfire): Evacuation Update - August 20 at 9:55 am We've worked with a local m... http://t.co/KONjw2Azj6, 2015-08-20 19:12:48, 90082730, 47.99972222, -118.15944444\\\\\\nChelan Complex (Wildfire): Reach (also known as Chelan Complex) and Black Canyon (includes McFarland Creek): T... http://t.co/deCKnmBxqO, 2015-08-21 15:04:42, 44538849, 47.81361111, -120.03888889\\\\\\nVolunteers sought to help fight the fires. Prayers for safety and RAIN http://t.co/RUGiXnytaW, 2015-08-21 17:12:03, 51978127, 46.5363236, -122.5330737\\\\\\nCrazy that it is only 3:00 pm.... #WashingtonOnFire @ Between Reardan and Davenport https://t.co/BIVAmOCpTk, 2015-08-21 21:53:22, 50079975, 47.65788553, -118.0406302\\\\\\nEllensburg Washington with forest fire haze around Mt. Stuart. #pnw #pnwfires #ellensburg #washington\\\\'85 https://t.co/mDKUC37t0D, 2015-08-22 05:21:25, 23927363, 46.88644379, -120.42565635\\\\\\nVolunteers sought to help fight the fires. Prayers for safety and RAIN http://t.co/RUGiXnytaW, 2015-08-21 17:12:03, 51978127, 46.5363236, -122.5330737\\\\\\nCrazy that it is only 3:00 pm.... #WashingtonOnFire @ Between Reardan and Davenport https://t.co/BIVAmOCpTk, 2015-08-21 21:53:22, 50079975, 47.65788553, -118.0406302\\\\\\nEllensburg Washington with forest fire haze around Mt. Stuart. #pnw #pnwfires #ellensburg #washington\\\\'85 https://t.co/mDKUC37t0D, 2015-08-22 05:21:25, 23927363, 46.88644379, -120.42565635\\\\\\nPress scrum @ Okanagan Fairgrounds #wawildfires http://t.co/CBDG4etckX, 2015-08-21 18:49:48, 189325731, 48.377156, -119.549277\\\\\\nPress scrum @ Okanagan Fairgrounds #wawildfires http://t.co/CBDG4etckX, 2015-08-21 18:49:48, 189325731, 48.377156, -119.549277\\\\\\nPraying that's a rain cloud. http://t.co/vEetyTi6iD, 2015-08-21 17:44:45, 615270448, 48.52164308, -118.10918519\\\\\\nThe smoke from the wildfires in Chelan are floating over... Crazy to see.\\\\'85 https://t.co/JmRnGGLsDn, 2015-08-23 01:31:04, 35149375, 47.82277778, -120.77611111\\\\\\nTonight at @iciclebrewing! #livemusic #thankyou #firefighters @ Icicle Brewing Company https://t.co/E0ee7Uu1be, 2015-08-22 19:45:03, 82478799, 47.59626423, -120.65975909\\\\\\n#inciweb Chelan Complex (Wildfire): Fire Update August 22Fire Update \\\\'96 Saturday,  August 22,  2015 ... http://t.co/geLh8rqp4F, 2015-08-23 05:55:32, 90082730, 47.81361111, -120.03888889\\\\\\nFire lines being cut,  fire watch in progress... #thankafirefighter #staysafe #standready @ Boyds, \\\\'85 https://t.co/GwmDMhO50X, 2015-08-22 06:37:12, 1284464371, 48.7139, -118.132\\\\\\nInvasion of the body snatchers. #wawildfire http://t.co/7uYnLVd0N5, 2015-08-22 19:43:49, 189325731, 48.460849, -119.515146\\\\\\nThank you firefighters! @KHQLocalNews #WAWildfire http://t.co/vxzf5oeJBB, 2015-08-22 14:56:13, 17068454, 48.37618, -119.553569\\\\\\n#inciweb Gold Hill (Wildfire): The Gold Hill Fire is located northeast of the city of Kettle Falls,  WA and was... http://t.co/YNeR4EH5NR, 2015-08-22 16:59:01, 90082730, 48.63194444, -118.01583333\\\\\\nBeautiful night for baseball #wildfirefundraiser #spokaneindians @ Avista Stadium https://t.co/bPPHn3ObhN, 2015-08-23 02:26:03, 2370875653, 47.662, -117.345\\\\\\nSun through ash. #washingtonfires @ Loon Lake Cabin https://t.co/A25O19rBaw, 2015-08-23 02:01:53, 19084916, 48.04840178, -117.61363653\\\\\\n#dutystation #pio #fireseason2015 #colvillenationalforest Old school. I'll be here all day. @\\\\'85 https://t.co/e3iMyYT88g, 2015-08-22 14:53:25, 24133430, 48.535767, -117.907872\\\\\\nGold Hill (Wildfire): The Gold Hill Fire is located northeast of the city of Kettle Falls,  WA and was discover... http://t.co/OvVd1JSBNX, 2015-08-22 16:58:58, 44538849, 48.63194444, -118.01583333\\\\\\nKettle Complex putting up a head at 6 AM. #fireseason2015 #kettlecomplex #rennerfire\\\\'85 https://t.co/lSf3w64bQo, 2015-08-22 13:05:21, 24133430, 48.60504499, -117.93058972\\\\\\nUpper Skagit Complex (Wildfire): The Upper Skagit Complex is comprised of the Goodell Fire (3, 180 acres),  Klaw... http://t.co/xwnDlIK2Qm, 2015-08-22 22:57:44, 44538849, 48.685, -121.25555556\\\\\\n#rattlesnake #dogsofinstagram #fire just a day's work protecting property. #thankafirefighter #tired\\\\'85 https://t.co/ZmD7sanIjr, 2015-08-23 07:49:40, 1284464371, 48.7139, -118.132\\\\\\nWildfire haze everywhere. #weatedonuts #pnw #hiking miss_erin86 @ Snow Lake https://t.co/Wu1aAUDOBN, 2015-08-23 21:57:02, 886181216, 47.41998859, -121.41079142\\\\\\n#Wildfires are raging in eastern and northeastern Washington,  right this moment. We have family over\\\\'85 https://t.co/GXaR5fZ5Kn, 2015-08-23 23:27:56, 18280585, 48.55, -119.75\\\\\\nWatching #Willow outside in the #gazebo for how long,  not sure,  #smoke is rolling in... #wafires\\\\'85 https://t.co/9xXwsHzNgZ, 2015-08-23 22:03:23, 546644367, 47.6939705, -117.405922\\\\\\nDammit. We need some damn rain. https://t.co/t1enPN1exj, 2015-08-23 22:50:13, 2367271, 47.70233424, -117.41171375\\\\\\nSmoke-choked sun. #wildfires #smoky #sunset #WallaWalla #eawa #alien #otherworldly #Martian @ Walla\\\\'85 https://t.co/D4hMBRrQNG, 2015-08-24 02:21:24, 17074573, 46.0651, -118.33\\\\\\nSpending the day indoors on account of poor air quality. Thinking about all of those firefighters\\\\'85 https://t.co/5xuOpuhwRv, 2015-08-23 14:56:42, 610186381, 46.73092353, -117.16160043\\\\\\nSmells like camping because of all the wildfire smoke., 2015-08-23 19:34:03, 56750790, 46.7362461, -117.1753693\\\\\\n}\""
      ]
     },
     "execution_count": 7,
     "metadata": {},
     "output_type": "execute_result"
    }
   ],
   "source": [
    "contents"
   ]
  },
  {
   "cell_type": "code",
   "execution_count": 8,
   "metadata": {},
   "outputs": [],
   "source": [
    "d=contents.split(\"\\n\")"
   ]
  },
  {
   "cell_type": "code",
   "execution_count": 9,
   "metadata": {},
   "outputs": [
    {
     "data": {
      "text/plain": [
       "['{\\\\rtf1\\\\ansi\\\\ansicpg1252\\\\cocoartf1504\\\\cocoasubrtf830',\n",
       " '{\\\\fonttbl\\\\f0\\\\fmodern\\\\fcharset0 Courier;\\\\f1\\\\fnil\\\\fcharset0 AppleColorEmoji;}',\n",
       " '{\\\\colortbl;\\\\red255\\\\green255\\\\blue255;\\\\red0\\\\green0\\\\blue0;}',\n",
       " '{\\\\*\\\\expandedcolortbl;;\\\\cssrgb\\\\c0\\\\c0\\\\c0;}',\n",
       " '\\\\paperw11900\\\\paperh16840\\\\margl1440\\\\margr1440\\\\vieww10800\\\\viewh8400\\\\viewkind0',\n",
       " '\\\\deftab720',\n",
       " '\\\\pard\\\\pardeftab720\\\\sl280\\\\partightenfactor0',\n",
       " '',\n",
       " '\\\\f0\\\\fs24 \\\\cf2 \\\\expnd0\\\\expndtw0\\\\kerning0',\n",
       " '\\\\outl0\\\\strokewidth0 \\\\strokec2 #fireseason2015 #baldyfire @ Baldy Mountain https://t.co/wVEXYfsuOj, 2015-08-10 02:59:12, 24133430, 48.8229704, -117.5113593\\\\',\n",
       " 'Having lunch at the top of the mountain. Starting to rain now. (@ Heather Meadows) https://t.co/wosY4N0RkS, 2015-08-12 23:12:03, 42983443, 48.86146805, -121.67890549\\\\',\n",
       " \"I knew the #airquality was bad in #Wenatchee due to the #wawildfires in the area,  didn't know it was\\\\'85 https://t.co/rPMAL2WvnT, 2015-08-13 06:09:12, 78648000, 47.4188004, -120.318367\\\\\",\n",
       " 'Face masks available in Chelan County: RUNOFF FROM THESE STORMS MAY PRODUCE FLASH FLOODING AND DEBRIS FLOWS. H... http://t.co/mT2aOz2aTE, 2015-08-14 00:54:56, 198771200, 47.5962326, -120.6614765\\\\',\n",
       " 'Stickpin Fire (Wildfire): The Stickpin Fire was likely started on Tuesday afternoon from lighting and was repo... http://t.co/9PXTkNEuUU, 2015-08-13 20:36:46, 44538849, 48.75638889, -118.46138889\\\\',\n",
       " '#inciweb Stickpin Fire (Wildfire): The Stickpin Fire was likely started on Tuesday afternoon from lighting and... http://t.co/OuGNXcGuau, 2015-08-13 20:36:49, 90082730, 48.75638889, -118.46138889\\\\',\n",
       " 'Summer fires are awful,  but they do make some beautiful sunsets ',\n",
       " '\\\\f1 \\\\uc0\\\\u55357 \\\\u56867 \\\\u55356 \\\\u57092 ',\n",
       " \"\\\\f0  #preventwildfires #wildfires\\\\'85 https://t.co/5YiaTpf9ZZ, 2015-08-14 02:10:49, 301176379, 47.69190796, -117.13215079\\\\\",\n",
       " \"#inciweb Cougar Creek (Wildfire): Glenwood,  Wash. \\\\'96 The Cougar Creek Fire started on Monday,  August 11,  2015 a... http://t.co/woFpDY8fJG, 2015-08-13 23:49:10, 90082730, 46.13388889, -121.37361111\\\\\",\n",
       " 'Cougar Creek (Wildfire): Extreme fire behavior with crowning and long-range spotting pushed the Cougar Creek F... http://t.co/k9xqJm6M0h, 2015-08-14 05:02:22, 44538849, 46.13388889, -121.37361111\\\\',\n",
       " 'Chelan Butte #chelanfire http://t.co/stFMVQU597, 2015-08-15 03:23:18, 4088231, 47.85665545, -120.03421213\\\\',\n",
       " 'Fire selfie. Smoke be like #photobomb #fireseason2015 #baldyfire #lineemt @ Baldy Mountain https://t.co/wihH6D9ZFF, 2015-08-14 18:26:30, 24133430, 48.8229704, -117.5113593\\\\',\n",
       " 'As if. #baldyfire #fireseason2015 @ Baldy Mountain https://t.co/qyH11kpjxS, 2015-08-14 14:57:14, 24133430, 48.8229704, -117.5113593\\\\',\n",
       " 'OhMyGosh you guys. FIRE. #missedaspot #baldyfire #fireseason2015 #lineemt @ Baldy Mountain https://t.co/Ec1t0jdT6B, 2015-08-14 18:24:38, 24133430, 48.8229704, -117.5113593\\\\',\n",
       " \"To boldly go where no rental should ever probably go... #dozerline #baldyfire #fireseason2015 @ Baldy\\\\'85 https://t.co/1edODN8Lz2, 2015-08-14 14:56:14, 24133430, 48.8229704, -117.5113593\\\\\",\n",
       " 'Follow the troops in. #fireseason2015 #baldyfire #lineemt @ Baldy Mountain https://t.co/nzuyU1gJSy, 2015-08-14 14:58:19, 24133430, 48.8229704, -117.5113593\\\\',\n",
       " \"This can't be good,  4:30pm #sunset #duststorm #morefires #spokane @ Spokane,  Washington https://t.co/FA6feLA2aF, 2015-08-15 00:30:25, 1284464371, 47.6589, -117.425\\\\\",\n",
       " \"It's either a #zombie #apocalypse or just your average #August #haboob (dust storm) in #Spokane This\\\\'85 https://t.co/wW5HiuRmHV, 2015-08-15 00:18:13, 546644367, 47.63814331, -117.34412487\\\\\",\n",
       " \"Storm is Brew'n #WallaWalla #GOTR - Drinking a Disruptor IPA by @IronHorseBeer @ Public House 124 \\\\'97 http://t.co/mzhQ6ZaBW1 #photo, 2015-08-14 22:28:47, 50369662, 46.0685, -118.336\\\\\",\n",
       " 'Please Jesus we need a ton of rain and no lightning., 2015-08-15 01:02:52, 1135843316, 46.5376567, -117.08796898\\\\',\n",
       " 'Cougar Creek (Wildfire): The Cougar Creek Fire was ignited by lightning on Monday,  August 10,  2015. The initia... http://t.co/lGmvS4avVl, 2015-08-14 15:54:37, 44538849, 46.13388889, -121.37361111\\\\',\n",
       " \"Survived the wildfires of Chelan,  now headed to Leavenworth. @ Lake\\\\'85 https://t.co/qLdHRQv1dh, 2015-08-15 19:05:38, 14821278, 47.63542885, -120.2389707\\\\\",\n",
       " '#inciweb Grizzly Bear Complex (Wildfire): The Grizzly Bear Complex consists of thirteen lightning fires burnin... http://t.co/APPamzvCBm, 2015-08-16 00:15:36, 90082730, 46.09777778, -117.7075\\\\',\n",
       " 'Grizzly Bear Complex (Wildfire): The Grizzly Bear Complex is comprised of thirteen lightning fires burning in ... http://t.co/qnEDL3LAOe, 2015-08-16 02:40:55, 44538849, 46.11055556, -117.68\\\\',\n",
       " 'At 5:15 PM,  2 NE Carlton [Okanogan Co,  WA] NEWSPAPER reports HEAVY RAIN of E0.00 INCH #OTX http://t.co/eHJlDUmcJ4, 2015-08-16 01:00:20, 34928684, 48.26, -120.08\\\\',\n",
       " 'Nine Mile (Wildfire): The Nine Mile Fire started on the afternoon of August 13 and is under investigation. The... http://t.co/nosrgmNncY, 2015-08-15 20:21:16, 44538849, 48.93777778, -119.30916667\\\\',\n",
       " 'Another wildfire South of Colville,  WA @ Colville,  WA https://t.co/XoKwF7NUHH, 2015-08-15 20:51:44, 188305974, 48.535767, -117.907872\\\\',\n",
       " \"Washington is basically on fire right now #Godspeed #prayforFirefighters\\\\'85 https://t.co/H6j2cf6kGy, 2015-08-15 17:08:09, 312168562, 48.3561, -117.836\\\\\",\n",
       " \"We worked at trying to save a few big pines on the fire line. #wildland #chelanfire #firefighting\\\\'85 https://t.co/aWDzQp88tE, 2015-08-16 23:51:53, 18827892, 47.84277778, -120.02138889\\\\\",\n",
       " \"North Star (Wildfire): Nespelem,  WA \\\\'96 The North Star Fire is threating the Moses Mountain Communication System... http://t.co/eaR52iqePY, 2015-08-16 21:34:15, 44538849, 48.33805556, -119.00166667\\\\\",\n",
       " 'Black Canyon (Wildfire): Black Canyon and McFarland Creek fires are actively burning in timber,  brush,  and sho... http://t.co/s1TsHTXzlT, 2015-08-17 01:49:34, 44538849, 48.05138889, -120.11333333\\\\',\n",
       " 'At 5:15 PM,  2 NE Carlton [Okanogan Co,  WA] EMERGENCY MNGR reports FLASH FLOOD #OTX http://t.co/eHJlDUmcJ4, 2015-08-16 14:47:19, 34928684, 48.26, -120.08\\\\',\n",
       " '#inciweb Black Canyon (Wildfire): Black Canyon and McFarland Creek fires are actively burning in timber,  brush... http://t.co/fodtlxdn8b, 2015-08-17 01:49:25, 90082730, 48.05138889, -120.11333333\\\\',\n",
       " '#inciweb Nine Mile (Wildfire): A fire line is completely around the perimeter of the fire. Crews continue mop ... http://t.co/enU7fvNDA6, 2015-08-16 16:14:55, 90082730, 48.93777778, -119.30916667\\\\',\n",
       " '@StationCDRKelly @NatasaKve cu at 9 pm pacific time tonight exactly tonight. It is the state on fire #wewillwave. #washingtononfire, 2015-08-17 23:22:14, 344775110, 46.25144999, -119.34572296\\\\',\n",
       " \"Crazy weekend at the lake. #chelanfire #chelan #lakechelanyachtclub @\\\\'85 https://t.co/Bkfig9Bof1, 2015-08-17 06:05:01, 305422003, 47.85215229, -120.1295774\\\\\",\n",
       " \"Crazy weekend at the lake. #chelanfire #chelan #lakechelanyachtclub @\\\\'85 https://t.co/C8TtRLsndv, 2015-08-17 06:05:01, 305422003, 47.85215229, -120.1295774\\\\\",\n",
       " \"Worked 7 am to 8:30 pm. Dinner at 9 pm. All you can eat. #wildfires #chelanfire #chelancomplex\\\\'85 https://t.co/co5SjgEqFR, 2015-08-18 04:29:34, 18827892, 47.80059134, -119.98328399\\\\\",\n",
       " 'Okanogan Complex (Wildfire): Washington Incident Management Team 2 (WA IMT2) arrived yesterday and assumed com... http://t.co/XnYLFpUIZI, 2015-08-17 21:45:09, 44538849, 48.51861111, -119.66222222\\\\',\n",
       " '#inciweb Okanogan Complex (Wildfire): Washington Incident Management Team 2 (WA IMT2) arrived yesterday and as... http://t.co/UGbYAgPreR, 2015-08-17 21:45:12, 90082730, 48.51861111, -119.66222222\\\\',\n",
       " 'Okanogan Complex (Wildfire): Washington Incident Management Team 2 (WA IMT2) arrived yesterday and assumed com... http://t.co/XnYLFpUIZI, 2015-08-17 21:45:09, 44538849, 48.51861111, -119.66222222\\\\',\n",
       " '#inciweb Okanogan Complex (Wildfire): Washington Incident Management Team 2 (WA IMT2) arrived yesterday and as... http://t.co/UGbYAgPreR, 2015-08-17 21:45:12, 90082730, 48.51861111, -119.66222222\\\\',\n",
       " 'Smoky sun sets over Lake Chelan #WAwildfire @ Lake Chelan https://t.co/9jnXcqnEK3, 2015-08-19 04:18:06, 40804860, 47.8397408, -120.0159225\\\\',\n",
       " \"Charred hillside above Chelan and a house that was saved from the fire. #wildland #wildfires\\\\'85 https://t.co/pza1jPdSTq, 2015-08-18 19:33:27, 18827892, 47.84277778, -120.02138889\\\\\",\n",
       " 'Wildland firefighting lunch. #chelancomplex #chelanfire #firefighting #wildfires @ Chelan,  Washington https://t.co/w9PBxhusuB, 2015-08-18 19:49:24, 18827892, 47.84277778, -120.02138889\\\\',\n",
       " 'Need. Fresh. Air. #wildfire #chelanfire @ Lake Chelan https://t.co/MlHkIVj8Mv, 2015-08-18 18:08:54, 20283059, 47.8397408, -120.0159225\\\\',\n",
       " 'Kettle Complex (Wildfire): Incident Summary: The Kettle Complex includes four fires in northern Ferry County W... http://t.co/UgPETiEhZg, 2015-08-19 00:25:32, 44538849, 48.75638889, -118.46138889\\\\',\n",
       " \"Headed home finally. Not quite the route I planned,  but.... #baldyfire #fireseason2015 #arewethereyet\\\\'85 https://t.co/CofNzhVkvM, 2015-08-19 01:25:36, 24133430, 48.81942702, -117.39783796\\\\\",\n",
       " 'Last beer in the house. #showerbeer#homeatlast #fireseason2015 @ The Doghouse https://t.co/e7LVgNK68o, 2015-08-19 05:27:54, 24133430, 48.89081699, -117.79256202\\\\',\n",
       " 'Level 3 evacuation for all of Twisp. #getoutnow #chelanfires, 2015-08-19 22:49:08, 17450228, 47.8606572, -120.0790543\\\\',\n",
       " \"Help rebuild Chelan! Put us on your calendar to come over and help our community get back on it's feet! #chelanfires #lakechelan, 2015-08-20 00:47:19, 17450228, 47.8606558, -120.0790605\\\\\",\n",
       " '3 Wildland Fire Fighters lost their lives today.. my heart is sad #wildfire # real heroes http://t.co/y3BCP7TG9Z, 2015-08-20 05:47:32, 1413999294, 47.4260961, -120.3448263\\\\',\n",
       " '#inciweb Kettle Complex (Wildfire): Incident Summary: The Kettle Complex includes four fires in northern Ferry... http://t.co/8zpz82pSSw, 2015-08-19 19:44:16, 90082730, 48.75638889, -118.46138889\\\\',\n",
       " 'Near Omak today. #wildfires #okanogancomplex #firefighting @ Omak,  Wash https://t.co/H5NVYoVGUq, 2015-08-20 05:24:54, 18827892, 48.43785193, -119.49956613\\\\',\n",
       " '#inciweb North Star (Wildfire): A LEVEL 2 EVACUATION HAS BEEN ISSUED FOR RESIDENTS NORTH and EAST OF THE NESPE... http://t.co/zq6LQVGhmh, 2015-08-19 09:37:27, 90082730, 48.33805556, -119.00166667\\\\',\n",
       " \"We saved a few houses. Lost a few. It was a long day. #firefighting #okanogancomplex #wildfires @\\\\'85 https://t.co/Eo4EjN3WBt, 2015-08-20 05:30:47, 18827892, 48.43785193, -119.49956613\\\\\",\n",
       " 'Near Omak today. #wildfires #okanogancomplex #firefighting @ Omak,  Wash https://t.co/H5NVYoVGUq, 2015-08-20 05:24:54, 18827892, 48.43785193, -119.49956613\\\\',\n",
       " '#inciweb North Star (Wildfire): A LEVEL 2 EVACUATION HAS BEEN ISSUED FOR RESIDENTS NORTH and EAST OF THE NESPE... http://t.co/zq6LQVGhmh, 2015-08-19 09:37:27, 90082730, 48.33805556, -119.00166667\\\\',\n",
       " \"We saved a few houses. Lost a few. It was a long day. #firefighting #okanogancomplex #wildfires @\\\\'85 https://t.co/Eo4EjN3WBt, 2015-08-20 05:30:47, 18827892, 48.43785193, -119.49956613\\\\\",\n",
       " 'Hope all our #firefighters are staying safe. Thank you for your service. ',\n",
       " '\\\\f1 \\\\uc0\\\\u9996 \\\\u65039 ',\n",
       " \"\\\\f0  #wa #washington #fire\\\\'85 https://t.co/TI5xMfRkkr, 2015-08-19 21:36:47, 1266336608, 46.6159632, -120.6692727\\\\\",\n",
       " \"A beautiful morning for a boat ride! #chelanfires #firstcreekfire @ Lake\\\\'85 https://t.co/XZhEbyAcID, 2015-08-20 15:41:11, 17450228, 47.92062339, -120.21404664\\\\\",\n",
       " \"Because everyone's office looks like this right?? #chelancomplexfire\\\\'85 https://t.co/54wlbHgbLJ, 2015-08-20 14:28:18, 610241068, 47.8397408, -120.0159225\\\\\",\n",
       " \"3 firefighters killed in battle against Washington\\\\'a0wildfire http://t.co/WI0g7QX95P, 2015-08-20 15:42:38, 18247597, 48.363478, -120.122303\\\\\",\n",
       " \"Three firefighters lost their lives being heroes. They put their lives on the line to protect us. My\\\\'85 https://t.co/fmHTwCSDld, 2015-08-20 06:02:06, 18175961, 48.3636, -120.121\\\\\",\n",
       " \"The forest fire was pretty serious,  1000 firefighters and bombers. Luckily we evacuated in time. @\\\\'85 https://t.co/3bpPKwRQDU, 2015-08-20 17:25:07, 777844, 48.477787, -120.1851044\\\\\",\n",
       " 'Red sunrise here.The smoke still here.The big wind storm is due today.Well, we will see what happens today. http://t.co/EhOdDpeqVh, 2015-08-20 13:36:27, 3010706766, 48.046938, -117.316686\\\\',\n",
       " \"3 firefighters killed in battle against Washington\\\\'a0wildfire http://t.co/WI0g7QX95P, 2015-08-20 15:42:38, 18247597, 48.363478, -120.122303\\\\\",\n",
       " \"Three firefighters lost their lives being heroes. They put their lives on the line to protect us. My\\\\'85 https://t.co/fmHTwCSDld, 2015-08-20 06:02:06, 18175961, 48.3636, -120.121\\\\\",\n",
       " \"The forest fire was pretty serious,  1000 firefighters and bombers. Luckily we evacuated in time. @\\\\'85 https://t.co/3bpPKwRQDU, 2015-08-20 17:25:07, 777844, 48.477787, -120.1851044\\\\\",\n",
       " \"#inciweb Carpenter Road Fire (Wildfire): Evacuation Update - August 20 at 9:55 am We've worked with a local m... http://t.co/KONjw2Azj6, 2015-08-20 19:12:48, 90082730, 47.99972222, -118.15944444\\\\\",\n",
       " 'Chelan Complex (Wildfire): Reach (also known as Chelan Complex) and Black Canyon (includes McFarland Creek): T... http://t.co/deCKnmBxqO, 2015-08-21 15:04:42, 44538849, 47.81361111, -120.03888889\\\\',\n",
       " 'Volunteers sought to help fight the fires. Prayers for safety and RAIN http://t.co/RUGiXnytaW, 2015-08-21 17:12:03, 51978127, 46.5363236, -122.5330737\\\\',\n",
       " 'Crazy that it is only 3:00 pm.... #WashingtonOnFire @ Between Reardan and Davenport https://t.co/BIVAmOCpTk, 2015-08-21 21:53:22, 50079975, 47.65788553, -118.0406302\\\\',\n",
       " \"Ellensburg Washington with forest fire haze around Mt. Stuart. #pnw #pnwfires #ellensburg #washington\\\\'85 https://t.co/mDKUC37t0D, 2015-08-22 05:21:25, 23927363, 46.88644379, -120.42565635\\\\\",\n",
       " 'Volunteers sought to help fight the fires. Prayers for safety and RAIN http://t.co/RUGiXnytaW, 2015-08-21 17:12:03, 51978127, 46.5363236, -122.5330737\\\\',\n",
       " 'Crazy that it is only 3:00 pm.... #WashingtonOnFire @ Between Reardan and Davenport https://t.co/BIVAmOCpTk, 2015-08-21 21:53:22, 50079975, 47.65788553, -118.0406302\\\\',\n",
       " \"Ellensburg Washington with forest fire haze around Mt. Stuart. #pnw #pnwfires #ellensburg #washington\\\\'85 https://t.co/mDKUC37t0D, 2015-08-22 05:21:25, 23927363, 46.88644379, -120.42565635\\\\\",\n",
       " 'Press scrum @ Okanagan Fairgrounds #wawildfires http://t.co/CBDG4etckX, 2015-08-21 18:49:48, 189325731, 48.377156, -119.549277\\\\',\n",
       " 'Press scrum @ Okanagan Fairgrounds #wawildfires http://t.co/CBDG4etckX, 2015-08-21 18:49:48, 189325731, 48.377156, -119.549277\\\\',\n",
       " \"Praying that's a rain cloud. http://t.co/vEetyTi6iD, 2015-08-21 17:44:45, 615270448, 48.52164308, -118.10918519\\\\\",\n",
       " \"The smoke from the wildfires in Chelan are floating over... Crazy to see.\\\\'85 https://t.co/JmRnGGLsDn, 2015-08-23 01:31:04, 35149375, 47.82277778, -120.77611111\\\\\",\n",
       " 'Tonight at @iciclebrewing! #livemusic #thankyou #firefighters @ Icicle Brewing Company https://t.co/E0ee7Uu1be, 2015-08-22 19:45:03, 82478799, 47.59626423, -120.65975909\\\\',\n",
       " \"#inciweb Chelan Complex (Wildfire): Fire Update August 22Fire Update \\\\'96 Saturday,  August 22,  2015 ... http://t.co/geLh8rqp4F, 2015-08-23 05:55:32, 90082730, 47.81361111, -120.03888889\\\\\",\n",
       " \"Fire lines being cut,  fire watch in progress... #thankafirefighter #staysafe #standready @ Boyds, \\\\'85 https://t.co/GwmDMhO50X, 2015-08-22 06:37:12, 1284464371, 48.7139, -118.132\\\\\",\n",
       " 'Invasion of the body snatchers. #wawildfire http://t.co/7uYnLVd0N5, 2015-08-22 19:43:49, 189325731, 48.460849, -119.515146\\\\',\n",
       " 'Thank you firefighters! @KHQLocalNews #WAWildfire http://t.co/vxzf5oeJBB, 2015-08-22 14:56:13, 17068454, 48.37618, -119.553569\\\\',\n",
       " '#inciweb Gold Hill (Wildfire): The Gold Hill Fire is located northeast of the city of Kettle Falls,  WA and was... http://t.co/YNeR4EH5NR, 2015-08-22 16:59:01, 90082730, 48.63194444, -118.01583333\\\\',\n",
       " 'Beautiful night for baseball #wildfirefundraiser #spokaneindians @ Avista Stadium https://t.co/bPPHn3ObhN, 2015-08-23 02:26:03, 2370875653, 47.662, -117.345\\\\',\n",
       " 'Sun through ash. #washingtonfires @ Loon Lake Cabin https://t.co/A25O19rBaw, 2015-08-23 02:01:53, 19084916, 48.04840178, -117.61363653\\\\',\n",
       " \"#dutystation #pio #fireseason2015 #colvillenationalforest Old school. I'll be here all day. @\\\\'85 https://t.co/e3iMyYT88g, 2015-08-22 14:53:25, 24133430, 48.535767, -117.907872\\\\\",\n",
       " 'Gold Hill (Wildfire): The Gold Hill Fire is located northeast of the city of Kettle Falls,  WA and was discover... http://t.co/OvVd1JSBNX, 2015-08-22 16:58:58, 44538849, 48.63194444, -118.01583333\\\\',\n",
       " \"Kettle Complex putting up a head at 6 AM. #fireseason2015 #kettlecomplex #rennerfire\\\\'85 https://t.co/lSf3w64bQo, 2015-08-22 13:05:21, 24133430, 48.60504499, -117.93058972\\\\\",\n",
       " 'Upper Skagit Complex (Wildfire): The Upper Skagit Complex is comprised of the Goodell Fire (3, 180 acres),  Klaw... http://t.co/xwnDlIK2Qm, 2015-08-22 22:57:44, 44538849, 48.685, -121.25555556\\\\',\n",
       " \"#rattlesnake #dogsofinstagram #fire just a day's work protecting property. #thankafirefighter #tired\\\\'85 https://t.co/ZmD7sanIjr, 2015-08-23 07:49:40, 1284464371, 48.7139, -118.132\\\\\",\n",
       " 'Wildfire haze everywhere. #weatedonuts #pnw #hiking miss_erin86 @ Snow Lake https://t.co/Wu1aAUDOBN, 2015-08-23 21:57:02, 886181216, 47.41998859, -121.41079142\\\\',\n",
       " \"#Wildfires are raging in eastern and northeastern Washington,  right this moment. We have family over\\\\'85 https://t.co/GXaR5fZ5Kn, 2015-08-23 23:27:56, 18280585, 48.55, -119.75\\\\\",\n",
       " \"Watching #Willow outside in the #gazebo for how long,  not sure,  #smoke is rolling in... #wafires\\\\'85 https://t.co/9xXwsHzNgZ, 2015-08-23 22:03:23, 546644367, 47.6939705, -117.405922\\\\\",\n",
       " 'Dammit. We need some damn rain. https://t.co/t1enPN1exj, 2015-08-23 22:50:13, 2367271, 47.70233424, -117.41171375\\\\',\n",
       " \"Smoke-choked sun. #wildfires #smoky #sunset #WallaWalla #eawa #alien #otherworldly #Martian @ Walla\\\\'85 https://t.co/D4hMBRrQNG, 2015-08-24 02:21:24, 17074573, 46.0651, -118.33\\\\\",\n",
       " \"Spending the day indoors on account of poor air quality. Thinking about all of those firefighters\\\\'85 https://t.co/5xuOpuhwRv, 2015-08-23 14:56:42, 610186381, 46.73092353, -117.16160043\\\\\",\n",
       " 'Smells like camping because of all the wildfire smoke., 2015-08-23 19:34:03, 56750790, 46.7362461, -117.1753693\\\\',\n",
       " '}']"
      ]
     },
     "execution_count": 9,
     "metadata": {},
     "output_type": "execute_result"
    }
   ],
   "source": [
    "d\n"
   ]
  },
  {
   "cell_type": "code",
   "execution_count": null,
   "metadata": {},
   "outputs": [],
   "source": []
  }
 ],
 "metadata": {
  "kernelspec": {
   "display_name": "Python 2",
   "language": "python",
   "name": "python2"
  },
  "language_info": {
   "codemirror_mode": {
    "name": "ipython",
    "version": 2
   },
   "file_extension": ".py",
   "mimetype": "text/x-python",
   "name": "python",
   "nbconvert_exporter": "python",
   "pygments_lexer": "ipython2",
   "version": "2.7.15"
  }
 },
 "nbformat": 4,
 "nbformat_minor": 2
}
